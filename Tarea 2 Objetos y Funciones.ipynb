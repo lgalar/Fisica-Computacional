{
 "cells": [
  {
   "cell_type": "markdown",
   "id": "78dfbafa",
   "metadata": {},
   "source": [
    "## Integrantes\n",
    "- Alarcón Rodríguez Luis Guillermo\n",
    "- Chávez Salgado Carlos Daniel\n",
    "- Rodríguez Salas Carlos Oswaldo"
   ]
  },
  {
   "cell_type": "markdown",
   "id": "8803a8ab",
   "metadata": {},
   "source": [
    "# Tarea 2: Funciones y Objetos\n",
    "\n",
    "Esta tarea ya no pretende ser minimalista por lo tanto se permite el uso de cualquier operador o función de Julia, **siempre y cuando no se requiera instalar paqueterías extra.** \n",
    "\n",
    "La fecha máxima de entrega es el jueves 7 de octubre a las 3pm. Tienen 2 días de cortecía (en realidad son tareas de una semana), así que igual que con la primera tarea, las tareas que se entreguen con retraso, no se calificarán (**no importa el motivo por el que no la entregaron**, para eso tienen 2 días extra). Intenten entregarla el martes 5 de octubre. \n",
    "\n",
    "Igual que la tarea anterior, se califica sobre 18 problemas. Si hacen los 19, el último no contará, aunque impresiona que lo hagan. \n",
    "\n",
    "Esta tarea ya tiene un poquito más de chiste, aunque creo que el salto no es gigante. \n",
    "\n",
    "## Funciones\n",
    "\n",
    "[1] **(fácil)** Haz una función para calcular el área de: \n",
    "\n",
    "(i) un círculo de radio $r$\n",
    "\n",
    "(ii) un rectángulo de lados $a$ y $b$\n",
    "\n",
    "(iii) un polígono (no necesariamente regular) con vértices $\\vec{p}_1, \\vec{p}_2, \\dots, \\vec{p}_n$. \n",
    "\n",
    "Finalmente prueba tus funciones para varios casos (especialmente la del polígono). Por ejemplo, checa que calcule bien el área de un triángulo, un rectángulo y un pentágono. \n",
    "\n",
    "**hint:** Intenta pensar como resolver el último sin este hint, pero si te rindes, puedes revisar aquí una técnica muy buena: https://en.wikipedia.org/wiki/Shoelace_formula. \n",
    "\n",
    "**Nota:** Trata de que cada función quede en una sola línea de código. "
   ]
  },
  {
   "cell_type": "code",
   "execution_count": 1,
   "id": "3cbb810c",
   "metadata": {},
   "outputs": [
    {
     "data": {
      "text/plain": [
       "Vector{Vector{Int64}} (alias for Array{Array{Int64, 1}, 1})"
      ]
     },
     "execution_count": 1,
     "metadata": {},
     "output_type": "execute_result"
    }
   ],
   "source": [
    "typeof([[1,2],[1,3],[3,4],[4,5]])"
   ]
  },
  {
   "cell_type": "code",
   "execution_count": 2,
   "id": "4f100fdb",
   "metadata": {
    "scrolled": true
   },
   "outputs": [
    {
     "data": {
      "text/plain": [
       "area (generic function with 2 methods)"
      ]
     },
     "execution_count": 2,
     "metadata": {},
     "output_type": "execute_result"
    }
   ],
   "source": [
    "area(r) = π * r^2 # Calcula el área de un círculo de radio r\n",
    "area(a,b) = a * b # Calcula el área de un rectángulo de lados a y b\n",
    "using LinearAlgebra\n",
    "function area(vertices) # Calcula el área de un polígono de n lados por medio de la fórmula de Schoelace\n",
    "    numeroLados = length(vertices)\n",
    "    areafinal = 1/2 * abs(sum(*(vertices[i+1][1] + vertices[i][1], vertices[i+1][2] - vertices[i][2]) for i ∈ 1:(numeroLados-1)))\n",
    "    areafinal += 1/2 * abs(sum(*(vertices[1][1] + vertices[numeroLados][1], vertices[1][2] - vertices[numeroLados][2])))\n",
    "    return areafinal\n",
    "end"
   ]
  },
  {
   "cell_type": "code",
   "execution_count": 3,
   "id": "83edc0ae",
   "metadata": {},
   "outputs": [
    {
     "data": {
      "text/plain": [
       "0.5"
      ]
     },
     "execution_count": 3,
     "metadata": {},
     "output_type": "execute_result"
    }
   ],
   "source": [
    "area([[0.0,0.0],[1.0,0.0],[0.0,1.0]])"
   ]
  },
  {
   "cell_type": "markdown",
   "id": "2f143f0f",
   "metadata": {},
   "source": [
    "[2] **(fácil)** Utilizando condicionales, haz una función que arroje la fuerza electrostática sobre una partícula de carga $q$ y posición $\\vec{x}$ si en el origen hay una esfera de radio $1$ que tiene densidad de carga constante en la superficie. "
   ]
  },
  {
   "cell_type": "code",
   "execution_count": 4,
   "id": "75ca830f",
   "metadata": {},
   "outputs": [
    {
     "data": {
      "text/plain": [
       "fuerzaElectroEsfera (generic function with 1 method)"
      ]
     },
     "execution_count": 4,
     "metadata": {},
     "output_type": "execute_result"
    }
   ],
   "source": [
    "function fuerzaElectroEsfera(q::Real, σ::Real, x::Array) # Calcula la fuerza electrica que siente una carga de una esfera de radio 1\n",
    "    if norm(x) < 1\n",
    "        return 0, x\n",
    "    end\n",
    "    ϵ_0 = 8.85e-12\n",
    "    F = q * σ / (ϵ_0 * (x ⋅ x))\n",
    "    return F, x\n",
    "end"
   ]
  },
  {
   "cell_type": "code",
   "execution_count": 5,
   "id": "46d682dd",
   "metadata": {},
   "outputs": [
    {
     "data": {
      "text/plain": [
       "(0.021729682746631895, [3, 4, 1])"
      ]
     },
     "execution_count": 5,
     "metadata": {},
     "output_type": "execute_result"
    }
   ],
   "source": [
    "fuerzaElectroEsfera(5e-12,1,[3,4,1])"
   ]
  },
  {
   "cell_type": "markdown",
   "id": "e7b004bb",
   "metadata": {},
   "source": [
    "[3] **(fácil)** Utiliza la función que calcula el área de un polígono para calcular el área bajo la curva de una función estrictamente no negativa en un intervalo dado $[a,b]$. Para esto, obtén $n+1$ puntos equidistantes en ese intervalo ($[a, a+(b-a)/n, \\dots, b]$) y con ellos obtén las coordenadas de los vértices del polígono que aproxima al área bajo la curva, $[a, 0], [a, f(a)], [a+(b-a)/n, f(a+(b-a)/n)], \\dots, [b, f(b)], [b, 0]$ y finalmente calcula su área. "
   ]
  },
  {
   "cell_type": "code",
   "execution_count": 6,
   "id": "52214ae7",
   "metadata": {},
   "outputs": [
    {
     "data": {
      "text/plain": [
       "particion (generic function with 1 method)"
      ]
     },
     "execution_count": 6,
     "metadata": {},
     "output_type": "execute_result"
    }
   ],
   "source": [
    "function particion(a::Real, b::Real, n::Int64)\n",
    "    w = [a]\n",
    "    for i in (1:n)\n",
    "        push!(w, a + i*((b-a)/n) )\n",
    "    end\n",
    "    w\n",
    "end"
   ]
  },
  {
   "cell_type": "code",
   "execution_count": 7,
   "id": "010b3d15",
   "metadata": {},
   "outputs": [
    {
     "data": {
      "text/plain": [
       "evaluacion (generic function with 1 method)"
      ]
     },
     "execution_count": 7,
     "metadata": {},
     "output_type": "execute_result"
    }
   ],
   "source": [
    "function evaluacion(g, a, b, n)\n",
    "    g.(particion(a,b,n))\n",
    "end"
   ]
  },
  {
   "cell_type": "code",
   "execution_count": 8,
   "id": "66435529",
   "metadata": {},
   "outputs": [
    {
     "data": {
      "text/plain": [
       "vertices (generic function with 1 method)"
      ]
     },
     "execution_count": 8,
     "metadata": {},
     "output_type": "execute_result"
    }
   ],
   "source": [
    "function vertices(x, y)\n",
    "    z = []\n",
    "    for i in (1:length(x))\n",
    "        push!(z, [x[i],y[i]])\n",
    "    end\n",
    "    return z\n",
    "end"
   ]
  },
  {
   "cell_type": "code",
   "execution_count": 9,
   "id": "eb5ba72a",
   "metadata": {},
   "outputs": [
    {
     "data": {
      "text/plain": [
       "area_de_funciones (generic function with 1 method)"
      ]
     },
     "execution_count": 9,
     "metadata": {},
     "output_type": "execute_result"
    }
   ],
   "source": [
    "function area_de_funciones(a1, b1, n1, f1)\n",
    "    l = particion(a1, b1, n1)\n",
    "    j = evaluacion(f1, a1, b1, n1)\n",
    "    v = vertices(l,j)\n",
    "    insert!(v, 1, [a1,0.0])\n",
    "    push!(v, [b1,0.0])\n",
    "    area(v)\n",
    "end"
   ]
  },
  {
   "cell_type": "code",
   "execution_count": 10,
   "id": "48df9488",
   "metadata": {},
   "outputs": [
    {
     "data": {
      "text/plain": [
       "147.44386889783777"
      ]
     },
     "execution_count": 10,
     "metadata": {},
     "output_type": "execute_result"
    }
   ],
   "source": [
    "area_de_funciones(0.0, 5.0, 100, exp)"
   ]
  },
  {
   "cell_type": "markdown",
   "id": "51328eb0",
   "metadata": {},
   "source": [
    "[4] **(fácil)** Utilizando la función del ejercicio anterior, haz una función que calcule numéricamente la integral de una función cualquiera $f$ en un un intervalo $[a,b]$, aproximando con $n$ divisiones (que $n$ sea un argumento de la función, pero pre-fijado en 100). \n",
    "\n",
    "Prueba tu función con la función $sin$, $exp$, $x$, $x^4$ (checando sobre los intervalos que elijas que coincida aceptablemente el cálculo numérico con el analítico). "
   ]
  },
  {
   "cell_type": "code",
   "execution_count": 11,
   "id": "d643e0eb",
   "metadata": {},
   "outputs": [
    {
     "data": {
      "text/plain": [
       "area_n_100 (generic function with 1 method)"
      ]
     },
     "execution_count": 11,
     "metadata": {},
     "output_type": "execute_result"
    }
   ],
   "source": [
    "area_n_100(a,b,f) = area_de_funciones(a, b, 100, f)"
   ]
  },
  {
   "cell_type": "code",
   "execution_count": 12,
   "id": "d7797fde",
   "metadata": {},
   "outputs": [
    {
     "data": {
      "text/plain": [
       "4-element Vector{Float64}:\n",
       "  1.9998355038874436\n",
       " 22.142513601804502\n",
       "  4.934802200544679\n",
       " 61.21413751120923"
      ]
     },
     "execution_count": 12,
     "metadata": {},
     "output_type": "execute_result"
    }
   ],
   "source": [
    "funciones = [sin, exp, x -> x, x -> x^4]\n",
    "[area_n_100(0.0, π, i) for i in funciones]"
   ]
  },
  {
   "cell_type": "markdown",
   "id": "5a41baa7",
   "metadata": {},
   "source": [
    "[5] **(dificultad media)** Cada segundo en una colonia de bacterias puede suceder para cada bacteria que: (a) la bacteria muera con probabilidad $r$, (b) que la bacteria se reproduzca (se duplica) con probabilidad $1-r$. Haz una función para estimar numéricamente la probabilidad de que la colonia sobreviva después de $t$ segundos si se comienza con una sola bacteria (la función depende de $r$ y de $t$. \n",
    "\n",
    "¿cuál es el número promedio de bacterias después de 10,20, 50,100, mil y 10mil segundos si $r = 0.01, 0.1, 0.2, 0.3, 0.5, 0.8$? \n",
    "\n",
    "¿A partir de qué valor de $r$ se observa que la colonia se extingue? "
   ]
  },
  {
   "cell_type": "markdown",
   "id": "d80344be",
   "metadata": {},
   "source": [
    "## Advertencia\n",
    "Para $r=0.01, 0.1, 0.2$ el código se traba para t grande, pues se crean demasiadas bacterias y al iterar sobre números muy grandes no funciona."
   ]
  },
  {
   "cell_type": "code",
   "execution_count": 13,
   "id": "58702b89",
   "metadata": {},
   "outputs": [
    {
     "data": {
      "text/plain": [
       "probSobrevivir"
      ]
     },
     "execution_count": 13,
     "metadata": {},
     "output_type": "execute_result"
    }
   ],
   "source": [
    "mutable struct Bacteria\n",
    "    probMorir::Real\n",
    "    probReproducir::Real\n",
    "end\n",
    "\"\"\"\n",
    "Esta función calcula el número de bacterias después de t segundos, si las bacterias se extinguen antes de que llegue a t,\n",
    "te dice en que tiempo se extinguen\n",
    "\"\"\"\n",
    "function probSobrevivir(r::Real,t::Real) \n",
    "    b = Bacteria(r,abs(1-r))\n",
    "    tiempo = 0\n",
    "    numBacterias = 1                        #numBacterias=1 pues crearemos una bacteria\n",
    "    while tiempo < t && numBacterias > 0\n",
    "        bacteriaux = 0\n",
    "        i = 0\n",
    "        while i < numBacterias\n",
    "            testMuerte = rand()\n",
    "            testReproduccion = rand()\n",
    "            if testReproduccion < b.probReproducir\n",
    "                bacteriaux += 1\n",
    "            end\n",
    "            if testMuerte < b.probMorir\n",
    "             bacteriaux -= 1\n",
    "            end\n",
    "            i += 1\n",
    "        end\n",
    "        tiempo += 1\n",
    "        numBacterias += bacteriaux\n",
    "    end\n",
    "    return numBacterias, tiempo\n",
    "end"
   ]
  },
  {
   "cell_type": "code",
   "execution_count": 14,
   "id": "04a4fa27",
   "metadata": {},
   "outputs": [
    {
     "data": {
      "text/plain": [
       "2-element Vector{Tuple{Int64, Int64}}:\n",
       " (942, 10)\n",
       " (869922, 20)"
      ]
     },
     "execution_count": 14,
     "metadata": {},
     "output_type": "execute_result"
    }
   ],
   "source": [
    "[probSobrevivir(0.01, t) for t in [10, 20]]"
   ]
  },
  {
   "cell_type": "code",
   "execution_count": 15,
   "id": "63745f79",
   "metadata": {},
   "outputs": [
    {
     "data": {
      "text/plain": [
       "2-element Vector{Tuple{Int64, Int64}}:\n",
       " (520, 10)\n",
       " (184540, 20)"
      ]
     },
     "execution_count": 15,
     "metadata": {},
     "output_type": "execute_result"
    }
   ],
   "source": [
    "[probSobrevivir(0.1, t) for t in [10, 20]]"
   ]
  },
  {
   "cell_type": "code",
   "execution_count": 16,
   "id": "2f58c38b",
   "metadata": {},
   "outputs": [
    {
     "data": {
      "text/plain": [
       "2-element Vector{Tuple{Int64, Int64}}:\n",
       " (108, 10)\n",
       " (6982, 20)"
      ]
     },
     "execution_count": 16,
     "metadata": {},
     "output_type": "execute_result"
    }
   ],
   "source": [
    "[probSobrevivir(0.2, t) for t in [10, 20]]"
   ]
  },
  {
   "cell_type": "code",
   "execution_count": 17,
   "id": "ccd94c26",
   "metadata": {},
   "outputs": [
    {
     "data": {
      "text/plain": [
       "3-element Vector{Tuple{Int64, Int64}}:\n",
       " (4, 10)\n",
       " (988, 20)\n",
       " (29508181, 50)"
      ]
     },
     "execution_count": 17,
     "metadata": {},
     "output_type": "execute_result"
    }
   ],
   "source": [
    "[probSobrevivir(0.3, t) for t in [10, 20, 50]]"
   ]
  },
  {
   "cell_type": "code",
   "execution_count": 18,
   "id": "43ef75e8",
   "metadata": {},
   "outputs": [
    {
     "data": {
      "text/plain": [
       "6-element Vector{Tuple{Int64, Int64}}:\n",
       " (0, 4)\n",
       " (0, 1)\n",
       " (0, 1)\n",
       " (0, 5)\n",
       " (0, 4)\n",
       " (0, 1)"
      ]
     },
     "execution_count": 18,
     "metadata": {},
     "output_type": "execute_result"
    }
   ],
   "source": [
    "[probSobrevivir(0.5, t) for t in [10, 20, 50, 100, 1_000, 10_000]]"
   ]
  },
  {
   "cell_type": "code",
   "execution_count": 19,
   "id": "83a4e8f7",
   "metadata": {},
   "outputs": [
    {
     "data": {
      "text/plain": [
       "6-element Vector{Tuple{Int64, Int64}}:\n",
       " (0, 2)\n",
       " (0, 2)\n",
       " (0, 3)\n",
       " (0, 2)\n",
       " (0, 2)\n",
       " (0, 2)"
      ]
     },
     "execution_count": 19,
     "metadata": {},
     "output_type": "execute_result"
    }
   ],
   "source": [
    "[probSobrevivir(0.8, t) for t in [10, 20, 50, 100, 1_000, 10_000]]"
   ]
  },
  {
   "cell_type": "markdown",
   "id": "e6d9c57c",
   "metadata": {},
   "source": [
    "Las bacterias comienzan a extinguirse a partir de $r=0.5$"
   ]
  },
  {
   "cell_type": "markdown",
   "id": "35192407",
   "metadata": {},
   "source": [
    "Para el siguiente código no hay advertencias"
   ]
  },
  {
   "cell_type": "code",
   "execution_count": 20,
   "id": "ff4a5cff",
   "metadata": {},
   "outputs": [
    {
     "name": "stdout",
     "output_type": "stream",
     "text": [
      "Con una probabilidad de muerte de 0.01 la poblacion promedio de la colonia despues de 10 segundos es de 926.0872448090157552546456054853939142204577074200691163749888874515689115477549\n",
      "                       y la probabilidad de haber durado este tiempo es de 0.9898914343766294077791623915055630888092630006646167001278852126480950707872784\n",
      "Con una probabilidad de muerte de 0.1 la poblacion promedio de la colonia despues de 10 segundos es de 357.0467226624000330334576972290974591957720086678281883397896664204173863636499\n",
      "                       y la probabilidad de haber durado este tiempo es de 0.88522497006394252433322624419781639248876531315927576303539181111698070075104\n",
      "Con una probabilidad de muerte de 0.2 la poblacion promedio de la colonia despues de 10 segundos es de 109.9511627776000228881835937500021440521477374478522854943506019582340361047221\n",
      "                       y la probabilidad de haber durado este tiempo es de 0.7260630810911474660859023168873483009623097480987537389661528290612529445279778\n",
      "Con una probabilidad de muerte de 0.3 la poblacion promedio de la colonia despues de 10 segundos es de 28.92546549759999311848904426369773321056159311447418014637684822748877503093688\n",
      "                       y la probabilidad de haber durado este tiempo es de 0.4917365670605601019075665894110581675661194685516271946666574928053818492259791\n",
      "Con una probabilidad de muerte de 0.5 la poblacion promedio de la colonia despues de 10 segundos es de 1.0\n",
      "                       y la probabilidad de haber durado este tiempo es de 0.00048828125\n",
      "Con una probabilidad de muerte de 0.8 la poblacion promedio de la colonia despues de 10 segundos es de 0.0001048575999999997671693563461306037382972805388958043394576579132403672857508404\n",
      "                       y la probabilidad de haber durado este tiempo es de 7.379799960695368749063815284849233580192347025747663903300145324792740013196944e-30\n",
      "Con una probabilidad de muerte de 0.01 la poblacion promedio de la colonia despues de 20 segundos es de 857637.5849979538789272130262116041031728327557303808529100704598219383029022026\n",
      "                       y la probabilidad de haber durado este tiempo es de 0.9898914343766294077791623915055630888092630006646167001278852126480950707872784\n",
      "Con una probabilidad de muerte de 0.1 la poblacion promedio de la colonia despues de 20 segundos es de 127482.3621639608053333493780053613101471940524752723028149020540231183426894255\n",
      "                       y la probabilidad de haber durado este tiempo es de 0.88522497006394252433322624419781639248876531315927576303539181111698070075104\n",
      "Con una probabilidad de muerte de 0.2 la poblacion promedio de la colonia despues de 20 segundos es de 12089.25819614629678022656000000099535100162029278789364870303805705598530346476\n",
      "                       y la probabilidad de haber durado este tiempo es de 0.7260630810911474660859023168873483009623097480987537389661528290612529445279778\n",
      "Con una probabilidad de muerte de 0.3 la poblacion promedio de la colonia despues de 20 segundos es de 836.6825542528476175039445569864233115478919938610809978273195223553694099240988\n",
      "                       y la probabilidad de haber durado este tiempo es de 0.4917365670605601019072374219042775655497055290982568464981633466552826626016559\n",
      "Con una probabilidad de muerte de 0.5 la poblacion promedio de la colonia despues de 20 segundos es de 1.0\n",
      "                       y la probabilidad de haber durado este tiempo es de 4.76837158203125e-07\n",
      "Con una probabilidad de muerte de 0.8 la poblacion promedio de la colonia despues de 20 segundos es de 1.099511627775995117187500000010299920638612278400819947849221942779722477636176e-08\n",
      "                       y la probabilidad de haber durado este tiempo es de 4.711761122707867588784270273970493673056811501764112497703120794028508200725361e-98\n",
      "Con una probabilidad de muerte de 0.01 la poblacion promedio de la colonia despues de 50 segundos es de 6.811762746293746797664926738236964778964876876039966475959850998406433732042985e+14\n",
      "                       y la probabilidad de haber durado este tiempo es de 0.9898914343766294077791623915055630888092630006646167001278852126480950707872784\n",
      "Con una probabilidad de muerte de 0.1 la poblacion promedio de la colonia despues de 50 segundos es de 5.802635025809543452599688323016629083490435353590025076747722240145148103241704e+12\n",
      "                       y la probabilidad de haber durado este tiempo es de 0.88522497006394252433322624419781639248876531315927576303539181111698070075104\n",
      "Con una probabilidad de muerte de 0.2 la poblacion promedio de la colonia despues de 50 segundos es de 1.606938044258991948097851982138751235759393525039690548248576069492682814598071e+10\n",
      "                       y la probabilidad de haber durado este tiempo es de 0.7260630810911474660859023168873483009623097480987537389661528290612529445279778\n",
      "Con una probabilidad de muerte de 0.3 la poblacion promedio de la colonia despues de 50 segundos es de 2.024891623976434726460225605849205137523095497937879871459660070916939227873659e+07\n",
      "                       y la probabilidad de haber durado este tiempo es de 0.4917365670605601019072374219042775655497055290982568464981633466552826626016559\n",
      "Con una probabilidad de muerte de 0.5 la poblacion promedio de la colonia despues de 50 segundos es de 1.0\n",
      "                       y la probabilidad de haber durado este tiempo es de 4.44089209850062616169452667236328125e-16\n",
      "Con una probabilidad de muerte de 0.8 la poblacion promedio de la colonia despues de 50 segundos es de 1.267650600228215327747867672652562499999999727995358966837357262876149124966611e-20\n",
      "                       y la probabilidad de haber durado este tiempo es de 2.111563981394682208626374262568955908973373112957896745521464032809268700248004e-541\n",
      "Con una probabilidad de muerte de 0.01 la poblacion promedio de la colonia despues de 100 segundos es de 4.640011171179532750226778267382210021156980472223974749078881313989651227542192e+29\n",
      "                       y la probabilidad de haber durado este tiempo es de 0.9898914343766294077791623915055630888092630006646167001278852126480950707872784\n",
      "Con una probabilidad de muerte de 0.1 la poblacion promedio de la colonia despues de 100 segundos es de 3.367057324275172101028411813608663496922807087854686135556860015995558713146117e+25\n",
      "                       y la probabilidad de haber durado este tiempo es de 0.88522497006394252433322624419781639248876531315927576303539181111698070075104\n",
      "Con una probabilidad de muerte de 0.2 la poblacion promedio de la colonia despues de 100 segundos es de 2.582249878086913965043300398738656149736693159589038371500205143118692499836405e+20\n",
      "                       y la probabilidad de haber durado este tiempo es de 0.7260630810911474660859023168873483009623097480987537389661528290612529445279778\n",
      "Con una probabilidad de muerte de 0.3 la poblacion promedio de la colonia despues de 100 segundos es de 4.100186088849923125984639318985766171261070925436433516692078534291942715215033e+14\n",
      "                       y la probabilidad de haber durado este tiempo es de 0.4917365670605601019072374219042775655497055290982568464981633466552826626016559\n",
      "Con una probabilidad de muerte de 0.5 la poblacion promedio de la colonia despues de 100 segundos es de 1.0\n",
      "                       y la probabilidad de haber durado este tiempo es de 3.9443045261050590270586428264139311483660321755451150238513946533203125e-31\n",
      "Con una probabilidad de muerte de 0.8 la poblacion promedio de la colonia despues de 100 segundos es de 1.606938044258954594349644443736315549818572382835942438747093285156249934698565e-40\n",
      "                       y la probabilidad de haber durado este tiempo es de 3.390693522154145816328042539797189661150460611478875523566958156702640916928516e-2076\n",
      "Con una probabilidad de muerte de 0.01 la poblacion promedio de la colonia despues de 1000 segundos es de 4.625836318348795970027565751428885337539432732754414311556174425623342711992244e+296\n",
      "                       y la probabilidad de haber durado este tiempo es de 0.9898914343766294077791623915055630888092630006646167001278852126480950707872784\n",
      "Con una probabilidad de muerte de 0.1 la poblacion promedio de la colonia despues de 1000 segundos es de 1.872859090474273399461583416276229677004135789874740264026968131092058980950385e+255\n",
      "                       y la probabilidad de haber durado este tiempo es de 0.88522497006394252433322624419781639248876531315927576303539181111698070075104\n",
      "Con una probabilidad de muerte de 0.2 la poblacion promedio de la colonia despues de 1000 segundos es de 1.31820409343097054073893383509868706266629647517635551785361870500997570957656e+204\n",
      "                       y la probabilidad de haber durado este tiempo es de 0.7260630810911474660859023168873483009623097480987537389661528290612529445279778\n",
      "Con una probabilidad de muerte de 0.3 la poblacion promedio de la colonia despues de 1000 segundos es de 1.342875276736576171911660341209957526343873032907617166995599153900881947420383e+146\n",
      "                       y la probabilidad de haber durado este tiempo es de 0.4917365670605601019072374219042775655497055290982568464981633466552826626016559\n",
      "Con una probabilidad de muerte de 0.5 la poblacion promedio de la colonia despues de 1000 segundos es de 1.0\n",
      "                       y la probabilidad de haber durado este tiempo es de 4.666318092516094394950447723619085848085457231858540123108571698979834554878878e-302\n",
      "Con una probabilidad de muerte de 0.8 la poblacion promedio de la colonia despues de 1000 segundos es de 1.148130695273999588006198756096854981385549683581570161003645268574848352637893e-398\n",
      "                       y la probabilidad de haber durado este tiempo es de 0.0\n",
      "Con una probabilidad de muerte de 0.01 la poblacion promedio de la colonia despues de 10000 segundos es de 4.486447761037724430369745080977985498404623930341290406396721253430063192560989e+2966\n",
      "                       y la probabilidad de haber durado este tiempo es de 0.9898914343766294077791623915055630888092630006646167001278852126480950707872784\n",
      "Con una probabilidad de muerte de 0.1 la poblacion promedio de la colonia despues de 10000 segundos es de 5.309468310470321272402918689992406726826119172678401105037179403263112642787084e+2552\n",
      "                       y la probabilidad de haber durado este tiempo es de 0.88522497006394252433322624419781639248876531315927576303539181111698070075104\n",
      "Con una probabilidad de muerte de 0.2 la poblacion promedio de la colonia despues de 10000 segundos es de 1.584260372573408470498979659387905853134563498206086235326615888853953109337498e+2041\n",
      "                       y la probabilidad de haber durado este tiempo es de 0.7260630810911474660859023168873483009623097480987537389661528290612529445279778\n",
      "Con una probabilidad de muerte de 0.3 la poblacion promedio de la colonia despues de 10000 segundos es de 1.907026738635001331590007070909751233739128739502079399041295079483226922550661e+1461\n",
      "                       y la probabilidad de haber durado este tiempo es de 0.4917365670605601019072374219042775655497055290982568464981633466552826626016559\n",
      "Con una probabilidad de muerte de 0.5 la poblacion promedio de la colonia despues de 10000 segundos es de 1.0\n",
      "                       y la probabilidad de haber durado este tiempo es de 2.506186374603226004648777966871488874660783890669212919710714521139619765475392e-3011\n",
      "Con una probabilidad de muerte de 0.8 la poblacion promedio de la colonia despues de 10000 segundos es de 3.980276840329128602369266060246744136941669846951270376851189819683328039960872e-3980\n",
      "                       y la probabilidad de haber durado este tiempo es de 0.0\n"
     ]
    }
   ],
   "source": [
    "function poblacion(r::Real,t::Real) #numBacterias=1 pues crearemos una bacteria\n",
    "    numBacterias::BigFloat = 1\n",
    "    probsob::BigFloat=1-r\n",
    "    for tiempo in 1:t\n",
    "         numBacterias=numBacterias+((1-r)*numBacterias)-(r*numBacterias)  #La poblacion evoluciona de acuerdo a una distribucion binomial\n",
    "         probsob=probsob*(1-r^(numBacterias)) \n",
    "    end\n",
    "     return  println(\"Con una probabilidad de muerte de $(r) la poblacion promedio de la colonia despues de $(t) segundos es de $(numBacterias)\n",
    "                       y la probabilidad de haber durado este tiempo es de $(probsob)\")\n",
    "end\n",
    "\n",
    " for t in [10, 20,50,100,1000,10000]\n",
    "     for r in [0.01,0.1,0.2,0.3,0.5,0.8]\n",
    "        poblacion(r,t)       \n",
    "                                \n",
    "    end                           #Se observa que a partir de r=0.5 la probabilidad de que la colonia sobreviva es practicamente nula y se extingue\n",
    "end\n"
   ]
  },
  {
   "cell_type": "markdown",
   "id": "a3cc31df",
   "metadata": {},
   "source": [
    "\n",
    "\n",
    "[6] **(talachudo)** En la tarea anterior vimos que las letras con acentos son problemáticas, porque las registra como 2 símbolos, uno que se puede leer y uno que no. Lo mismo sucede con ¿, ñ, ¡, entre otros. Haz una función que de un texto en español con símbolos y acentos incómodos, lo pase a un texto en español que reconozca Unicode. "
   ]
  },
  {
   "cell_type": "code",
   "execution_count": 58,
   "id": "e0005b78",
   "metadata": {},
   "outputs": [
    {
     "data": {
      "text/plain": [
       "\"Hola a todas, las muchachas del mundo enteritu!!\""
      ]
     },
     "execution_count": 58,
     "metadata": {},
     "output_type": "execute_result"
    }
   ],
   "source": [
    "caract = [\"á\",\"é\",\"í\",\"ó\",\"ú\",\"Á\",\"É\",\"Í\",\"Ó\",\"Ú\",\"¿\",\"ñ\",\"Ñ\",\"¡\"]\n",
    "caract1 = [\"a\",\"e\",\"i\",\"o\",\"u\",\"A\",\"E\",\"I\",\"O\",\"U\",\"\",\"n\",\"N\",\"\"]\n",
    "## Esta función nos indica los índices de nuestra String (el texto) donde hay algún caracter en español de los que vienen en 'caract'\n",
    "\n",
    "function skip(x)                                   # x es el texto\n",
    "    y = []\n",
    "    for j in 1:length(caract)\n",
    "        append!(y, findall(caract[j], x))          # cada iteración añade los índices que buscamos en un arreglo de rangos \n",
    "    end\n",
    "    return sort!([y[i][1] for i in 1:length(y)])   # aquí obtenemos un arreglo de numeros (más fácil de trabajar)\n",
    "    y\n",
    "end\n",
    "## Esta función nos va a dar un arreglo con los números del 1 hasta el numero de elmentos de nuestra String pero sin los índices que no queremos\n",
    "## Los caracteres en español ocupan dos lugares en el String pero el segundo causa problemas con nuestra función final, por eso no los queremos tomar en cuenta\n",
    "\n",
    "function array_bueno(x)                                 # x es String\n",
    "    u = skip(x)\n",
    "    v = [i for i in 1:(length(x) + length(u))]          # v es el arreglo con todos los números del 1 al numero de caracteres y se suma la longitud de u porque la función length() \n",
    "                                                        # cuenta a los caracteres en español como uno solo pero para nuestro caso necesitamos contar los espacios reales.     \n",
    "    for j in 1:length(u)\n",
    "        deleteat!(v, u[j] - (j-1) + 1)                  # aquí eliminamos los indices problematicos\n",
    "    end\n",
    "    v\n",
    "end\n",
    "\n",
    "# Esta función nos va a convertir nuestro texto (String) en un arreglo donde cada elemento de este es un caracter del texto, en orden \n",
    "\n",
    "function arreglos(x)                                   # x es el texto\n",
    "    y = []\n",
    "    for i in array_bueno(x)                            # i va a correr en el arreglo que obtuvimos anteriormente\n",
    "        push!(y, \"$(x[i])\")                            # aquí se forma en arreglo\n",
    "    end\n",
    "    return y\n",
    "end\n",
    "\n",
    "## En esta función se analiza cada elemento del arreglo y si encuentra un caracter en español, lo cambia poe el correspondiente a Unicode\n",
    "\n",
    "function espanol(x)                                     # x es un arreglo de caractéres\n",
    "    for i in 1:length(x)\n",
    "    for j in 1:length(caract)\n",
    "        if x[i] == caract[j]\n",
    "            deleteat!(x, i)                             # aquí borra el elemento en español\n",
    "            insert!(x, i, caract1[j])                   # aquí lo sustituye\n",
    "        else\n",
    "            continue\n",
    "        end\n",
    "    end\n",
    "    end\n",
    "    return x\n",
    "end\n",
    "\n",
    "## Por último, componemos las dos últimas funciones para que ddado un x = texto(String) nos lo convierta en otro texto pero con todos los caracteres de Unicode\n",
    "\n",
    "function traductor(x)\n",
    "    prod(espanol(arreglos(x)))\n",
    "end\n",
    "\n",
    "# Ejemplo random\n",
    "traductor(\"Holá a todás, las mucháchas dél mundó entérítú!!\")"
   ]
  },
  {
   "cell_type": "code",
   "execution_count": 59,
   "id": "0a3e42c5",
   "metadata": {},
   "outputs": [
    {
     "data": {
      "text/plain": [
       "\"Ni silencio, ni palabras: tu voz, solo, solo, hablandome.\""
      ]
     },
     "execution_count": 59,
     "metadata": {},
     "output_type": "execute_result"
    }
   ],
   "source": [
    "# Ejemplo poema\n",
    "traductor(\"Ni silencio, ni palabras: tu voz, sólo, sólo, hablándome.\")"
   ]
  },
  {
   "cell_type": "markdown",
   "id": "11517227",
   "metadata": {},
   "source": [
    "[7] **(dificultad media)** Haz una función que dado un texto, regrese un arreglo con las palabras que contiene el texto ordenadas de la palabra más frecuente a la menos frecuente y también regrese un arreglo con el número de veces que aparece cada palabra. Asegúrate de eliminar los signos de puntuación. \n",
    "\n",
    "Prueba tu función con un par de textos \"largos\" (al menos que tenga unas mil palabras). \n",
    "\n",
    "Si quieres jugar un poco más, prueba con varios autores y con varios textos del mismo autor ¿Hay algo en común en todos? ¿hay algo particular de cada autor?"
   ]
  },
  {
   "cell_type": "code",
   "execution_count": 24,
   "id": "dd848fd2",
   "metadata": {},
   "outputs": [
    {
     "data": {
      "text/plain": [
       "33-element Vector{Any}:\n",
       " Any[\"de\", 4]\n",
       " Any[\"que\", 3]\n",
       " Any[\"un\", 3]\n",
       " Any[\"texto\", 2]\n",
       " Any[\"regrese\", 2]\n",
       " Any[\"arreglo\", 2]\n",
       " Any[\"con\", 2]\n",
       " Any[\"el\", 2]\n",
       " Any[\"la\", 2]\n",
       " Any[\"palabra\", 2]\n",
       " Any[\"frecuente\", 2]\n",
       " Any[\"Haz\", 1]\n",
       " Any[\"una\", 1]\n",
       " ⋮\n",
       " Any[\"menos\", 1]\n",
       " Any[\"y\", 1]\n",
       " Any[\"tambien\", 1]\n",
       " Any[\"numero\", 1]\n",
       " Any[\"veces\", 1]\n",
       " Any[\"aparece\", 1]\n",
       " Any[\"cada\", 1]\n",
       " Any[\"Asegurate\", 1]\n",
       " Any[\"eliminar\", 1]\n",
       " Any[\"los\", 1]\n",
       " Any[\"signos\", 1]\n",
       " Any[\"puntuación\", 1]"
      ]
     },
     "execution_count": 24,
     "metadata": {},
     "output_type": "execute_result"
    }
   ],
   "source": [
    "function frecuencia(g)\n",
    "    a=split(g, \" \")\n",
    "    l=[]\n",
    "    h=[]\n",
    "    u=unique(a)\n",
    "    for n ∈ 1:length(u)\n",
    "         d=0\n",
    "        for i ∈ 1:length(a)\n",
    "        if u[n]==a[i]\n",
    "            d+=1\n",
    "            end\n",
    "        end\n",
    "    push!(h, d)\n",
    "    end\n",
    "    append!(l, [u[i], h[i]] for i ∈ 1:length(u))\n",
    "    y=sort!(l, by = x -> x[2], rev=true)\n",
    "    return y\n",
    "end \n",
    "frecuencia(\"Haz una funcion que dado un texto regrese un arreglo con las palabras que contiene el texto ordenadas de la palabra mas frecuente a la menos frecuente y tambien regrese un arreglo con el numero de veces que aparece cada palabra Asegurate de eliminar los signos de puntuación\" )"
   ]
  },
  {
   "cell_type": "markdown",
   "id": "088ebe0c",
   "metadata": {},
   "source": [
    "[8] **(dificil)** Gráficas con símbolos. Una forma de graficar es simplemente imprimir una matriz con símbolos. Usando la función print y el símbolo \\n para saltar linea, puedes imprimir adecuadamente los símbolos para dibujar una función grafica_con_simbolos(p, x, y), por ejemplo, poniendo el símbolo \"x\" para cuando un punto está ocupado y el símbolo \" \" para cuando no. Usando esta idea haz una función que grafique los puntos de un arreglo de puntos $[\\vec{p}_1, \\dots, \\vec{p}_n]$, dado los límites en el eje $x$ y $y$. \n",
    "\n",
    "Utiliza esta función para graficar el histograma (el número de veces que aparece cada palabra) del ejercicio anterior. \n",
    "\n",
    "También utilizala para graficar el número de bacterias promedio como función del tiempo del ejercicio 5. \n",
    "\n",
    "Nota: busca sobre la ley de Zipf si quieres saber más sobre ese resultado. "
   ]
  },
  {
   "cell_type": "code",
   "execution_count": null,
   "id": "cfe5a9a2",
   "metadata": {},
   "outputs": [],
   "source": []
  },
  {
   "cell_type": "markdown",
   "id": "e0ad2225",
   "metadata": {},
   "source": [
    "[9] **(dificultad media)** Haz una función que encuentre cualquier número (como tu fecha de cumpleaños ddmmaaaa) dentro de las primeras  6,020,601  de cifras de  𝜋 . Para esto tendrás que poner la precisión de los BigFloat en  20,000,000 . Si utilizas cadenas, recuerda que la primera cifra es 3 y la segunda es 1, no \".\". (mi cumpleaños completo está entre la cifra 5712844 y 5712851). ¿Cuándo nací?"
   ]
  },
  {
   "cell_type": "code",
   "execution_count": 25,
   "id": "a6e86740",
   "metadata": {},
   "outputs": [
    {
     "data": {
      "text/plain": [
       "número_en_π (generic function with 1 method)"
      ]
     },
     "execution_count": 25,
     "metadata": {},
     "output_type": "execute_result"
    }
   ],
   "source": [
    "function número_en_π(N::Int)\n",
    "    cadena_N = string(N) #Convertimos el entero en una cadena\n",
    "    setprecision(BigFloat, 20_000_000) do #Cambios la precisión\n",
    "        cifras_π = deleteat!([i for i ∈ string(BigFloat(π))], 2) #Eliminamos el \".\"\n",
    "        for i ∈ 1:(length(cifras_π)-length(cadena_N)) #Iteramos sobre las cifras de π\n",
    "            if cadena_N[1] == cifras_π[i] #Vemos si el primer digito de N conincide con una cifra de π\n",
    "                if prod(cadena_N[1+j] == cifras_π[i+j] for j ∈ 1:(length(cadena_N)-1)) #Si el primer digíto del número coincide...\n",
    "                    return \"El número se encuentra en $(i)\"\n",
    "                    break\n",
    "                end   \n",
    "            end\n",
    "        end\n",
    "        println(\"Este número no se encuentra en las primeras 6,020,601 cifras de π\")\n",
    "    end\n",
    "end    "
   ]
  },
  {
   "cell_type": "markdown",
   "id": "961b3d38",
   "metadata": {},
   "source": [
    "[10] **(fácil)** Calcula $\\pi$ usando 3 métodos (haciendo las funciones correspondientes):\n",
    "\n",
    "- Midiendo el área de un polígono regular de $n$ lados de radio 1. \n",
    "- Midiendo el perímetro de un polígono regular de $n$ lados de radio 1/2. \n",
    "- Calculando 2 veces el área bajo la curva de $ f(x) = \\sqrt{1-x^2}$ entre -1 y 1, para $n = n$ (aquí la segunda $n$ en la igualdad se refiere al valor que asignan a $n$ el key argument de la función en 15). \n",
    "\n",
    "¿Qué método lo aproxima mejor al crecer $n$?"
   ]
  },
  {
   "cell_type": "code",
   "execution_count": 26,
   "id": "249637cf",
   "metadata": {},
   "outputs": [
    {
     "data": {
      "text/plain": [
       "areaPoligonor1 (generic function with 1 method)"
      ]
     },
     "execution_count": 26,
     "metadata": {},
     "output_type": "execute_result"
    }
   ],
   "source": [
    "function areaPoligonor1(n::Int)\n",
    "    1//2*n*sin(2π/n)\n",
    "end"
   ]
  },
  {
   "cell_type": "code",
   "execution_count": 27,
   "id": "2f512b17",
   "metadata": {},
   "outputs": [
    {
     "data": {
      "text/plain": [
       "3.1415719827794755"
      ]
     },
     "execution_count": 27,
     "metadata": {},
     "output_type": "execute_result"
    }
   ],
   "source": [
    "areaPoligonor1(1000)"
   ]
  },
  {
   "cell_type": "code",
   "execution_count": 28,
   "id": "66fe7db6",
   "metadata": {},
   "outputs": [
    {
     "data": {
      "text/plain": [
       "perimetroPoligonorMedio (generic function with 1 method)"
      ]
     },
     "execution_count": 28,
     "metadata": {},
     "output_type": "execute_result"
    }
   ],
   "source": [
    "function perimetroPoligonorMedio(n::Int)\n",
    "    n*sin(2π/n)/2*sin(π*(1//2-1/n))\n",
    "end"
   ]
  },
  {
   "cell_type": "code",
   "execution_count": 29,
   "id": "c1dd61be",
   "metadata": {},
   "outputs": [
    {
     "data": {
      "text/plain": [
       "3.1415564797558924"
      ]
     },
     "execution_count": 29,
     "metadata": {},
     "output_type": "execute_result"
    }
   ],
   "source": [
    "perimetroPoligonorMedio(1000)"
   ]
  },
  {
   "cell_type": "code",
   "execution_count": 30,
   "id": "dbca3c3f",
   "metadata": {},
   "outputs": [
    {
     "data": {
      "text/plain": [
       "3.1414874770021437"
      ]
     },
     "execution_count": 30,
     "metadata": {},
     "output_type": "execute_result"
    }
   ],
   "source": [
    "2 * area_de_funciones(-1.0, 1, 1000, x -> sqrt(1-x^2))"
   ]
  },
  {
   "cell_type": "markdown",
   "id": "3a7ddf25",
   "metadata": {},
   "source": [
    "[11] **(fácil)** Haz una función que dado un ángulo y rapidez inicial, calcule la distancia (y tiempo) que recorre (tarda) una partícula que se tira con tiro parabólico hasta que llegue a la misma altura que la que salió. "
   ]
  },
  {
   "cell_type": "code",
   "execution_count": 31,
   "id": "c342e59a",
   "metadata": {},
   "outputs": [
    {
     "data": {
      "text/plain": [
       "tiroParabolico"
      ]
     },
     "execution_count": 31,
     "metadata": {},
     "output_type": "execute_result"
    }
   ],
   "source": [
    "\"\"\"\n",
    "Esta función calcula el alcance máximo y el tiempo de vuelo de un tiro parabólico\n",
    "\"\"\"\n",
    "function tiroParabolico(v_0::Real, θ::Real, g = 9.81)\n",
    "    t = 2 * v_0 * sin(θ) / g\n",
    "    d = v_0 ^2 * sin(2 * θ) / g\n",
    "    return d, t\n",
    "end"
   ]
  },
  {
   "cell_type": "code",
   "execution_count": 32,
   "id": "7149d5d3",
   "metadata": {},
   "outputs": [
    {
     "data": {
      "text/plain": [
       "(10.193085833129116, 1.433801058512559)"
      ]
     },
     "execution_count": 32,
     "metadata": {},
     "output_type": "execute_result"
    }
   ],
   "source": [
    "tiroParabolico(10,0.78)"
   ]
  },
  {
   "cell_type": "markdown",
   "id": "982ad661",
   "metadata": {},
   "source": [
    "## Objetos"
   ]
  },
  {
   "cell_type": "markdown",
   "id": "f3d2f9ee",
   "metadata": {},
   "source": [
    "[12] **(fácil)** Haz un objeto Segmento y otro Polígono. El objeto Segmento debe tener 3 entradas que corresponden al inicio y al final del segmento y a su longitud. El objeto Polígono debe tener 4 entradas, un arreglo de vértices, un arreglo de segmentos, el perímetro y el área del polígono. "
   ]
  },
  {
   "cell_type": "code",
   "execution_count": 33,
   "id": "aad2c03f",
   "metadata": {},
   "outputs": [],
   "source": [
    "abstract type Figura end"
   ]
  },
  {
   "cell_type": "code",
   "execution_count": 34,
   "id": "f908962a",
   "metadata": {},
   "outputs": [],
   "source": [
    "mutable struct Segmento <: Figura\n",
    "    inicio::Array{Float64}\n",
    "    final::Array{Float64}\n",
    "    longitud::Real\n",
    "end"
   ]
  },
  {
   "cell_type": "code",
   "execution_count": 35,
   "id": "3bd28ce1",
   "metadata": {},
   "outputs": [],
   "source": [
    "mutable struct Poligono <: Figura\n",
    "    vertices::Array{Array{Float64, 1}, 1}\n",
    "    segmentos::Array{Float64, 1}\n",
    "    perimetro::Real\n",
    "    area::Real\n",
    "end"
   ]
  },
  {
   "cell_type": "markdown",
   "id": "1f83412a",
   "metadata": {},
   "source": [
    "[13] **(fácil)** Haz un par de funciones que se llamen Segmento y Polígono, que tomen como argumentos para Segmento, el vértice inicial y el vértice final de un segmento, para la función Polígono, que tome como argumentos un arreglo de vértices. Estas funciones deben arrojar los objetos Segmento y Polígono respectivamente. "
   ]
  },
  {
   "cell_type": "code",
   "execution_count": 36,
   "id": "89e180f0",
   "metadata": {},
   "outputs": [],
   "source": [
    "using LinearAlgebra"
   ]
  },
  {
   "cell_type": "code",
   "execution_count": 37,
   "id": "6236994f",
   "metadata": {},
   "outputs": [
    {
     "data": {
      "text/plain": [
       "Segmento"
      ]
     },
     "execution_count": 37,
     "metadata": {},
     "output_type": "execute_result"
    }
   ],
   "source": [
    "function Segmento(a::Array{Float64}, b::Array{Float64})\n",
    "    l = norm(a-b)\n",
    "    return Segmento(a,b,l)\n",
    "end"
   ]
  },
  {
   "cell_type": "code",
   "execution_count": 38,
   "id": "5d94de62",
   "metadata": {},
   "outputs": [
    {
     "data": {
      "text/plain": [
       "Segmento([3.0, 4.0], [8.0, 5.0], 5.0990195135927845)"
      ]
     },
     "execution_count": 38,
     "metadata": {},
     "output_type": "execute_result"
    }
   ],
   "source": [
    "Segmento([3.0,4.0],[8.0,5.0])"
   ]
  },
  {
   "cell_type": "code",
   "execution_count": 39,
   "id": "4acb3a07",
   "metadata": {},
   "outputs": [
    {
     "data": {
      "text/plain": [
       "Poligono"
      ]
     },
     "execution_count": 39,
     "metadata": {},
     "output_type": "execute_result"
    }
   ],
   "source": [
    "using LinearAlgebra\n",
    "function Poligono(v::Array{Array{Float64,1},1})\n",
    "    numlados = length(v)\n",
    "    segmentos = [Segmento(v[i], v[i+1]).longitud for i ∈ 1:(numlados - 1)]\n",
    "    push!(segmentos, Segmento(v[numlados], v[1]).longitud)\n",
    "    perimetro = sum([lado for lado ∈ segmentos])\n",
    "    return Poligono(v, segmentos, perimetro, area(v))\n",
    "end"
   ]
  },
  {
   "cell_type": "code",
   "execution_count": 40,
   "id": "a84bc80b",
   "metadata": {},
   "outputs": [
    {
     "data": {
      "text/plain": [
       "Poligono([[0.0, 0.0], [1.0, 0.0], [1.0, 1.0], [0.0, 1.0]], [1.0, 1.0, 1.0, 1.0], 4.0, 1.0)"
      ]
     },
     "execution_count": 40,
     "metadata": {},
     "output_type": "execute_result"
    }
   ],
   "source": [
    "Poligono([[0.0,0.0],[1.0,0.0],[1.0,1.0],[0.0,1.0]])"
   ]
  },
  {
   "cell_type": "markdown",
   "id": "83503c86",
   "metadata": {},
   "source": [
    "[14] **(fácil)** Agrega los métodos *(a::Number, s::Segmento), *(s::Segmento, a::Number) y *(a::Number, p::Polígono), *(p::Polígono, a::Number), de tal forma que se produzca un segmento y un polígono respectivamente, con el mismo centro, pero con una longitud o perímetro multiplicados por a. "
   ]
  },
  {
   "cell_type": "code",
   "execution_count": 41,
   "id": "8d9b9c47",
   "metadata": {},
   "outputs": [
    {
     "data": {
      "text/plain": [
       "* (generic function with 329 methods)"
      ]
     },
     "execution_count": 41,
     "metadata": {},
     "output_type": "execute_result"
    }
   ],
   "source": [
    "import Base.*\n",
    "function *(a::Number, f::Figura)\n",
    "    if f isa Segmento\n",
    "        f.longitud = a * f.longitud\n",
    "        f.final = a * f.final\n",
    "        return Segmento(s.inicio, s.final, s.longitud)\n",
    "    elseif f isa Poligono\n",
    "        vertices = [a * v for v ∈ f.vertices]\n",
    "        return Poligono(vertices)\n",
    "    else\n",
    "        return -1\n",
    "    end\n",
    "end"
   ]
  },
  {
   "cell_type": "code",
   "execution_count": 42,
   "id": "a8743073",
   "metadata": {},
   "outputs": [
    {
     "data": {
      "text/plain": [
       "* (generic function with 330 methods)"
      ]
     },
     "execution_count": 42,
     "metadata": {},
     "output_type": "execute_result"
    }
   ],
   "source": [
    "function *(f::Figura, a::Number)\n",
    "    return *(a::Number, f::Figura)\n",
    "end"
   ]
  },
  {
   "cell_type": "code",
   "execution_count": 43,
   "id": "79881d08",
   "metadata": {},
   "outputs": [
    {
     "ename": "LoadError",
     "evalue": "UndefVarError: s not defined",
     "output_type": "error",
     "traceback": [
      "UndefVarError: s not defined",
      "",
      "Stacktrace:",
      " [1] *(a::Int64, f::Segmento)",
      "   @ Main ./In[41]:6",
      " [2] top-level scope",
      "   @ In[43]:1",
      " [3] eval",
      "   @ ./boot.jl:360 [inlined]",
      " [4] include_string(mapexpr::typeof(REPL.softscope), mod::Module, code::String, filename::String)",
      "   @ Base ./loading.jl:1090"
     ]
    }
   ],
   "source": [
    "*(2,Segmento([1.0,2.0],[5.0,3.0]))"
   ]
  },
  {
   "cell_type": "code",
   "execution_count": 44,
   "id": "22e14f66",
   "metadata": {},
   "outputs": [
    {
     "data": {
      "text/plain": [
       "Poligono([[0.0, 0.0], [2.0, 0.0], [0.0, 2.0], [2.0, 2.0]], [2.0, 2.8284271247461903, 2.0, 2.8284271247461903], 9.65685424949238, 4.0)"
      ]
     },
     "execution_count": 44,
     "metadata": {},
     "output_type": "execute_result"
    }
   ],
   "source": [
    "*(2,Poligono([[0.0,0.0],[1.0,0.0],[0.0,1.0],[1.0,1.0]]))"
   ]
  },
  {
   "cell_type": "markdown",
   "id": "82b18eec",
   "metadata": {},
   "source": [
    "[15] **(fácil)** Agrega los métodos +(s1::Segmento, s2::Segmento), +(s1::Segmento, p1::Polígono) y +(p1::Polígono, s1::Segmento), de tal forma que el resultado de sumar ambos objetos sea un polígono. En el caso de sumar 2 segmentos, el polígono resultante debe ser el que comience en el primer vértice de s1, siga en el segundo vértice, continue al primer vértice de s2, luego pase al segundo vértice de s2. Similar con los casos de sumar segmento y polígono.\n",
    "\n",
    "Nota: No es necesario, pero es mejor si tus métodos consideren el caso donde el primer vértice del segundo objeto coincida con el último vértice del primer objeto y en ese caso no repita el mismo vértice en el polígono final. Por ejemplo si s1 = Segmento([0,0], [1,1]) y s2 = Segmento([1,1], [2,1]), s1+s2 = Polígono([[0,0], [1,1], [2,1]]) y no igual a Polígono([[0,0], [1,1], [1,1], [2,1]]).  "
   ]
  },
  {
   "cell_type": "code",
   "execution_count": 45,
   "id": "5dd9c054",
   "metadata": {},
   "outputs": [
    {
     "data": {
      "text/plain": [
       "+ (generic function with 191 methods)"
      ]
     },
     "execution_count": 45,
     "metadata": {},
     "output_type": "execute_result"
    }
   ],
   "source": [
    "import Base.+\n",
    "function +(f::Figura...)\n",
    "    vertices::Array{Array{Float64, 1}, 1} = [] \n",
    "    for  figura ∈ f \n",
    "        if figura isa  Segmento \n",
    "           vertices = vcat(vertices,[f.inicio, f.final])  \n",
    "        elseif f isa Poligono \n",
    "           vertices = vcat(vertices, f.vertices) \n",
    "        else\n",
    "           println(\"No es una Figura\")\n",
    "           return - 1\n",
    "        end\n",
    "     end   \n",
    "     return Polígono(vertices)\n",
    "end    "
   ]
  },
  {
   "cell_type": "markdown",
   "id": "9af33272",
   "metadata": {},
   "source": [
    "[16] **(talachudo)** Haz un objeto llamado Cuaternión que sea un número (vas a necesitar usar el objeto abstracto Number), que contenga la parte real, y las 3 partes imaginarias. Agrega a este objeto las operaciones de suma, resta, producto, cociente, conjugado, norma y exponencial (revisa cómo se operan los cuaternones aquí: https://en.wikipedia.org/wiki/Quaternion). \n",
    "\n",
    "Prueba que tu objeto hace lo que debe hacer un cuaternión con esas operaciones algebráicas básicas. \n",
    "\n",
    "Nota: Necesitarás cargar la paquetería de LinearAlgebra para la norma. "
   ]
  },
  {
   "cell_type": "code",
   "execution_count": 46,
   "id": "334b0dec",
   "metadata": {},
   "outputs": [],
   "source": [
    "mutable struct Cuaternion <: Number\n",
    "    real::Real\n",
    "    im::Array\n",
    "end"
   ]
  },
  {
   "cell_type": "code",
   "execution_count": 47,
   "id": "3c5ba13d",
   "metadata": {},
   "outputs": [
    {
     "data": {
      "text/plain": [
       "suma (generic function with 1 method)"
      ]
     },
     "execution_count": 47,
     "metadata": {},
     "output_type": "execute_result"
    }
   ],
   "source": [
    "function suma(a::Cuaternion, b::Cuaternion)\n",
    "    return Cuaternion(a.real + b.real, .+(a.im, b.im))\n",
    "end"
   ]
  },
  {
   "cell_type": "code",
   "execution_count": 48,
   "id": "ef36de7a",
   "metadata": {},
   "outputs": [
    {
     "data": {
      "text/plain": [
       "resta (generic function with 1 method)"
      ]
     },
     "execution_count": 48,
     "metadata": {},
     "output_type": "execute_result"
    }
   ],
   "source": [
    "function resta(a::Cuaternion, b::Cuaternion)\n",
    "    return Cuaternion(a.real - b.real, .-(a.im, b.im))\n",
    "end"
   ]
  },
  {
   "cell_type": "code",
   "execution_count": 49,
   "id": "f3a01664",
   "metadata": {},
   "outputs": [
    {
     "data": {
      "text/plain": [
       "multescalar (generic function with 1 method)"
      ]
     },
     "execution_count": 49,
     "metadata": {},
     "output_type": "execute_result"
    }
   ],
   "source": [
    "function multescalar(c::Real, b::Cuaternion)\n",
    "    return Cuaternion(c * b.real, c .* b.im)\n",
    "end"
   ]
  },
  {
   "cell_type": "code",
   "execution_count": 50,
   "id": "a996beaa",
   "metadata": {},
   "outputs": [
    {
     "data": {
      "text/plain": [
       "conjugado (generic function with 1 method)"
      ]
     },
     "execution_count": 50,
     "metadata": {},
     "output_type": "execute_result"
    }
   ],
   "source": [
    "function conjugado(a::Cuaternion)\n",
    "    return Cuaternion(a.real, - a.im)\n",
    "end"
   ]
  },
  {
   "cell_type": "code",
   "execution_count": 51,
   "id": "a2e8188d",
   "metadata": {},
   "outputs": [
    {
     "data": {
      "text/plain": [
       "producto (generic function with 1 method)"
      ]
     },
     "execution_count": 51,
     "metadata": {},
     "output_type": "execute_result"
    }
   ],
   "source": [
    "function producto(a::Cuaternion, b::Cuaternion)\n",
    "    r = a.real * b.real - a.im ⋅ b.im\n",
    "    i = a.real * b.im + a.im * b.real + a.im × b.im\n",
    "    return Cuaternion(r, i)\n",
    "end"
   ]
  },
  {
   "cell_type": "code",
   "execution_count": 52,
   "id": "8f27bf54",
   "metadata": {},
   "outputs": [
    {
     "data": {
      "text/plain": [
       "norma (generic function with 1 method)"
      ]
     },
     "execution_count": 52,
     "metadata": {},
     "output_type": "execute_result"
    }
   ],
   "source": [
    "function norma(a::Cuaternion)\n",
    "    return √(a.real ^ 2 + norm(a.im))\n",
    "end"
   ]
  },
  {
   "cell_type": "code",
   "execution_count": 53,
   "id": "d692ec95",
   "metadata": {},
   "outputs": [
    {
     "data": {
      "text/plain": [
       "inverso (generic function with 1 method)"
      ]
     },
     "execution_count": 53,
     "metadata": {},
     "output_type": "execute_result"
    }
   ],
   "source": [
    "using LinearAlgebra\n",
    "function inverso(a::Cuaternion)\n",
    "    r = a.real / norma(a)\n",
    "    i = - a.im / norma(a)\n",
    "    return Cuaternion(r,i)\n",
    "end"
   ]
  },
  {
   "cell_type": "code",
   "execution_count": 54,
   "id": "25ac77a7",
   "metadata": {},
   "outputs": [
    {
     "data": {
      "text/plain": [
       "exponencial (generic function with 1 method)"
      ]
     },
     "execution_count": 54,
     "metadata": {},
     "output_type": "execute_result"
    }
   ],
   "source": [
    "using LinearAlgebra\n",
    "function exponencial(a::Cuaternion)\n",
    "    c = Cuaternion(0,[0,0,0])\n",
    "    c.real = exp(a.real) * cos(norm(a.im))\n",
    "    c.im = (exp(a.real) * sin(norm(a.im)) / norm(a.im)) * a.im\n",
    "    return c\n",
    "end"
   ]
  },
  {
   "cell_type": "code",
   "execution_count": 55,
   "id": "7d8eb74a",
   "metadata": {},
   "outputs": [
    {
     "name": "stdout",
     "output_type": "stream",
     "text": [
      "Cuaternion(9, [4, 4, 8])\n",
      "Cuaternion(1, [-2, 0, -2])\n",
      "Cuaternion(27.0, [5.4, 10.8, 16.200000000000003])\n",
      "Cuaternion(5, [-1, -2, -3])\n",
      "Cuaternion(-2, [23, 22, 33])\n",
      "5.361124638242795\n",
      "Cuaternion(0.9326401338131993, [-0.18652802676263985, -0.3730560535252797, -0.5595840802879196])\n",
      "Cuaternion(-122.48524100698262, [-22.398710948668615, -44.79742189733723, -67.19613284600584])\n"
     ]
    }
   ],
   "source": [
    "a = Cuaternion(5,[1,2,3])\n",
    "b = Cuaternion(4,[3,2,5])\n",
    "c = 5.4\n",
    "println(suma(a,b))\n",
    "println(resta(a,b))\n",
    "println(multescalar(c,a))\n",
    "println(conjugado(a))\n",
    "println(producto(a,b))\n",
    "println(norma(a))\n",
    "println(inverso(a))\n",
    "println(exponencial(a))"
   ]
  },
  {
   "cell_type": "markdown",
   "id": "c56327e6",
   "metadata": {},
   "source": [
    "[17] **(dificultad media)** Un problema típico en física computacional es saber si una partícula se encuentra \"dentro\" de algo o \"fuera\" de ese algo. Para polígonos una forma de resolver esto es \"lanzando semi-rayos\" desde la partícula hacia el exterior. Si el semi-rayo cruza un número impar de aristas, entonces se encuentra dentro del polígono. Si cruza un número par se encuentra fuera. Haz una función que dado un polígono y un punto, diga si el punto se encuentra dentro o fuera del polígono. "
   ]
  },
  {
   "cell_type": "code",
   "execution_count": 56,
   "id": "45a012c2",
   "metadata": {},
   "outputs": [],
   "source": [
    "using LinearAlgebra\n",
    "mutable struct segmen\n",
    "    inicio::Vector{Float64}\n",
    "    final::Vector{Float64}\n",
    "    longitud::Float64   \n",
    "    segmen(x,y)=new(x,y,norm(y-x))\n",
    "end\n",
    "mutable struct poli\n",
    "    vertices::Array{Array{Float64,1},1}\n",
    "    segm::Array{segmen}\n",
    "    perimetro\n",
    "    area\n",
    "    function seg(x)\n",
    "        return [(segmen(x[i],x[i+1])) for i in 1:(length(x)-1)] ∪ [segmen(x[length(x)],x[1])]\n",
    "    end     \n",
    "     poli(x)=new(x,seg(x),sum([(seg(x)[i].longitud) for i in 1:length(seg(x))]),area(x))\n",
    "end"
   ]
  },
  {
   "cell_type": "code",
   "execution_count": 57,
   "id": "a90e70fc",
   "metadata": {},
   "outputs": [
    {
     "data": {
      "text/plain": [
       "\"Afuera\""
      ]
     },
     "execution_count": 57,
     "metadata": {},
     "output_type": "execute_result"
    }
   ],
   "source": [
    "function particula_poligono(a::poli,p1::Vector{Float64})\n",
    "    \n",
    "    function cruza(s1::segmen,s2::segmen)       \n",
    "        if (([s1.final[1]-s1.inicio[1],s1.final[2]-s1.inicio[2],0]×[s2.final[1]-s1.inicio[1],s2.final[2]-s1.inicio[2],0])[3] > 0) ⊻ (([s1.final[1]-s1.inicio[1],s1.final[2]-s1.inicio[2],0]×[s2.inicio[1]-s1.inicio[1],s2.inicio[2]-s1.inicio[2],0])[3] > 0)\n",
    "            if (([s2.final[1]-s2.inicio[1],s2.final[2]-s2.inicio[2],0]×[s1.final[1]-s2.inicio[1],s1.final[2]-s2.inicio[2],0])[3] > 0) ⊻ (([s2.final[1]-s2.inicio[1],s2.final[2]-s2.inicio[2],0]×[s1.inicio[1]-s2.inicio[1],s1.inicio[2]-s2.inicio[2],0])[3] > 0)\n",
    "                return 1\n",
    "            else\n",
    "                return 0\n",
    "            end\n",
    "        else\n",
    "            return 0\n",
    "        end\n",
    "     end   \n",
    "    function dir()        \n",
    "        d=[rand()*rand([-1,1]),rand()*rand([-1,1])] #Tomamos una direccion aleatoria\n",
    "        d=d/norm(d)\n",
    "        return d\n",
    "    end  \n",
    "      p2=p1+2*maximum([norm(p1-a.vertices[i]) for i ∈ 1:length(a.vertices)])*dir()\n",
    "     rayo=segmen(p1,p2)                       #Creamos el semi-rayo\n",
    "      prueba=sum([cruza(rayo,a.segm[i]) for i ∈ 1:length(a.segm)])    \n",
    "    if mod(prueba,2) == 0\n",
    "        return \"Afuera\"\n",
    "    else\n",
    "        return \"Adentro\"\n",
    "    end\n",
    "end \n",
    " x=[[-1.,-1.],[1.,-1.],[0.,1.]]\n",
    " triangulo=poli(x)\n",
    " particula_poligono(triangulo,[0.,2.])"
   ]
  },
  {
   "cell_type": "markdown",
   "id": "5b97633b",
   "metadata": {},
   "source": [
    "[18] **(dificultad media)** Modifica la función del problema 11, para que en vez de calcular cuándo llega a la misma altura, calcule cuándo llega (intersecta) una linea poligonal dada (un polígono, que puede contener dos segmentos infinitos). "
   ]
  },
  {
   "cell_type": "code",
   "execution_count": null,
   "id": "aa301b2d",
   "metadata": {},
   "outputs": [],
   "source": []
  },
  {
   "cell_type": "markdown",
   "id": "84899c1a",
   "metadata": {},
   "source": [
    "[19] **(difícil)** Haz el equivalente al problema 17, pero en 3D. Asegúrate que tu función hace lo que debe hacer (es decir, pruébala con ejemplos de poliedros adecuados).\n",
    "\n",
    "Nota: Quizá la parte más difícil en este ejercicio es asegurarse de que la función calcula correctamente lo que se quiere. "
   ]
  },
  {
   "cell_type": "code",
   "execution_count": null,
   "id": "22e8206d",
   "metadata": {},
   "outputs": [],
   "source": []
  }
 ],
 "metadata": {
  "kernelspec": {
   "display_name": "Julia 1.6.0-rc1",
   "language": "julia",
   "name": "julia-1.6"
  },
  "language_info": {
   "file_extension": ".jl",
   "mimetype": "application/julia",
   "name": "julia",
   "version": "1.6.0"
  }
 },
 "nbformat": 4,
 "nbformat_minor": 5
}
