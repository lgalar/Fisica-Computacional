{
 "cells": [
  {
   "cell_type": "markdown",
   "id": "discrete-puzzle",
   "metadata": {},
   "source": [
    "# Tarea 2: Funciones y Objetos\n",
    "\n",
    "\n",
    "**Esta tarea es notoriamente más difícil que la anterior, así que tendrán hasta el domingo de la próxima semana para terminarla.**\n",
    "\n",
    "Será una de las tareas más difíciles en el semestre. Creo que aún no tienen tanta carga de trabajo en el resto de sus cursos y ya tienen herramientas para que, pensandole un poco (un mucho en realidad), logren cosas más o menos avanzadas. Por lo tanto, los motivo a ser humildes y no ir directamente por el problema de 10 u 11. Primero piensen como resolverían cada uno y ataquen aquel del que tengan ya una idea de cómo resolverlo. Si no tienen idea de ninguno, me piden pistas para el de 7.  \n",
    "\n",
    "La siguiente tarea igual será difícil, pero para la 4 habrá un descanso, esa será un poco más fácil. \n",
    "\n",
    "**Equipo:**\n",
    "\n",
    "- Luis Guillermo Alarcón Rodríguez \n",
    "\n",
    "- Itzam Arturo Navarro Hernández \n",
    "\n",
    "- Carlos Oswaldo Salas Rodríguez \n",
    "\n",
    "\n",
    "## Problemas Básicos\n",
    "\n",
    "[1]  En una línea de código haz una función para calcular el área de un polígono (no necesariamente regular) con vértices $\\vec{p}_1, \\vec{p}_2, \\dots, \\vec{p}_n$ (para el siguiente ejercicio te conviene que sólo sea un argumento, un arreglo de vectores 2D). Prueba tu función con algunos polígonos (un par regulares y un irregular) para verificar que hace bien los cálculos (obtén analíticamente las áreas para checar que obtiene los valores correctos). \n",
    "\n",
    "\n",
    "**Nota:** Asegúrate que el área que arroje tu función sea positiva siempre. \n",
    "\n",
    "**hint:** Intenta pensar como resolver el problema sin este hint, pero si te rindes, puedes revisar aquí una técnica muy buena: https://en.wikipedia.org/wiki/Shoelace_formula. \n",
    "\n",
    "\n"
   ]
  },
  {
   "cell_type": "code",
   "execution_count": 2,
   "id": "ongoing-simulation",
   "metadata": {},
   "outputs": [
    {
     "data": {
      "text/plain": [
       "area (generic function with 1 method)"
      ]
     },
     "execution_count": 2,
     "metadata": {},
     "output_type": "execute_result"
    }
   ],
   "source": [
    "area(p) = 1/2 * abs(sum(*(p[i+1][1] + p[i][1], p[i+1][2] - p[i][2]) for i ∈ 1:(length(p)-1))) + 1/2 * abs(sum(*(p[1][1] + p[length(p)][1], p[1][2] - p[length(p)][2])))"
   ]
  },
  {
   "cell_type": "code",
   "execution_count": 3,
   "id": "cordless-affiliation",
   "metadata": {},
   "outputs": [
    {
     "data": {
      "text/plain": [
       "1.0"
      ]
     },
     "execution_count": 3,
     "metadata": {},
     "output_type": "execute_result"
    }
   ],
   "source": [
    "area([[1,1],[1,0],[0,1],[0,0]])"
   ]
  },
  {
   "cell_type": "code",
   "execution_count": 4,
   "id": "waiting-bishop",
   "metadata": {},
   "outputs": [
    {
     "data": {
      "text/plain": [
       "0.25"
      ]
     },
     "execution_count": 4,
     "metadata": {},
     "output_type": "execute_result"
    }
   ],
   "source": [
    "area([[1,0],[1,0.5],[0,0]])"
   ]
  },
  {
   "cell_type": "code",
   "execution_count": 5,
   "id": "duplicate-accommodation",
   "metadata": {},
   "outputs": [
    {
     "data": {
      "text/plain": [
       "5.0"
      ]
     },
     "execution_count": 5,
     "metadata": {},
     "output_type": "execute_result"
    }
   ],
   "source": [
    "area([[0,0],[0,2],[1,3],[2,2],[2,0]])"
   ]
  },
  {
   "cell_type": "markdown",
   "id": "collaborative-duplicate",
   "metadata": {},
   "source": [
    "[2] Usa la función del ejercicio 1 para hacer una función en una línea de código que tenga como argumentos otra función estrictamente positiva $f$ en $\\mathbb{R}$, dos valores $a$ y $b$ tales que $a>b$, un número $n$ y que arroje una aproximación a la integral $\\int_a^b f(x)dx$. Recuerda que la integral es el área bajo la curva, por lo que puedes aproximar con un polígono que pase por los puntos $(a, 0), (a, f(a)), (a+\\Delta x, f(a+\\Delta x)), \\dots, (a+(n-1)\\Delta x,f(a+(n-1)\\Delta x)), (b, f(b)), (b, 0)$.  \n",
    "\n",
    "**Nota:** Utiliza el símbolo $\\int_p$ como el nombre de tu función, $\\int_p(f, a, b, n)$. \n"
   ]
  },
  {
   "cell_type": "markdown",
   "id": "roman-magazine",
   "metadata": {},
   "source": [
    "Para este ejercicio, tomamos los puntos $\\Big{(}a+\\frac{b-a}{n}i,0\\Big{)},\\Big{(}a+\\frac{b-a}{n}i,f(a+\\frac{b-a}{n}i)\\Big{)}, \\Big{(}a+\\frac{b-a}{n}(i+1),f(a+\\frac{b-a}{n}(i+1))\\Big{)},\\Big{(}a+\\frac{b-a}{n}(i+1),0\\Big{)}$ los cuales están ordenados en el sentido de las manecillas del reloj para que se pueda calcular el área sin problemas. Esta $i$ va a ir variendo desde $0$ hasta $n-1$ para obtener el área de cada uno de los rectángulos y así finalmente sumar estas áreas "
   ]
  },
  {
   "cell_type": "code",
   "execution_count": 6,
   "id": "configured-treasurer",
   "metadata": {},
   "outputs": [
    {
     "data": {
      "text/plain": [
       "∫_p (generic function with 1 method)"
      ]
     },
     "execution_count": 6,
     "metadata": {},
     "output_type": "execute_result"
    }
   ],
   "source": [
    "\n",
    "∫_p(f,a,b,n) = sum(area.([[a+i*(b-a)/n, 0], [a+i*(b-a)/n, f(a+i*(b-a)/n)], [a+(i+1)*(b-a)/n, f(a+(i+1)*(b-a)/n)], [a+(i+1)*(b-a)/n, 0]] for i ∈ 0:n-1))\n"
   ]
  },
  {
   "cell_type": "code",
   "execution_count": 7,
   "id": "present-terrain",
   "metadata": {},
   "outputs": [
    {
     "data": {
      "text/plain": [
       "0.9999997943832314"
      ]
     },
     "execution_count": 7,
     "metadata": {},
     "output_type": "execute_result"
    }
   ],
   "source": [
    "∫_p(sin,0,π/2,1000)"
   ]
  },
  {
   "cell_type": "markdown",
   "id": "altered-particular",
   "metadata": {},
   "source": [
    "[3] Utilizando la función del ejercicio anterior, haz una función (esta y todas las siguientes pueden ser en varias líneas) que calcule numéricamente la integral de una función cualquiera $f$ en $\\mathbb{R}$ (que pueda ser positiva, negativa, mixta, etc...) en un un intervalo $[a,b]$, aproximando con $n$ divisiones (que $n$ sea un argumento de la función, pero pre-fijado en 100). \n",
    "\n",
    "Prueba tu función con la función $sin$, $exp$, $x$, $x^4$ (checando sobre los intervalos que elijas que coincida aceptablemente el cálculo numérico con el analítico). \n",
    "\n",
    "**Nota:** Ahora utiliza el símbolo $\\int$ para nombrar la función. \n",
    "\n",
    "**Nota2:** Para resolver el problema TIENES que utilizar la funcion anterior, no se vale re-definir la función en [1] para que pueda arrojar áreas negativas. \n",
    "\n",
    "**Hint:** Encuentra los puntos que su coordenada $y$ es positiva. "
   ]
  },
  {
   "cell_type": "code",
   "execution_count": 8,
   "id": "charitable-nudist",
   "metadata": {},
   "outputs": [
    {
     "data": {
      "text/plain": [
       "∫ (generic function with 2 methods)"
      ]
     },
     "execution_count": 8,
     "metadata": {},
     "output_type": "execute_result"
    }
   ],
   "source": [
    "function ∫(f,a,b,n=100)\n",
    "    integral = 0\n",
    "    for i ∈ a:(b-a)/n:(b-(b-a)/n)\n",
    "        if f(i) < 0\n",
    "            integral -= ∫_p(f,i,i+(b-a)/n,1)\n",
    "        else \n",
    "            integral += ∫_p(f,i,i+(b-a)/n,1)\n",
    "        end\n",
    "    end\n",
    "    return integral\n",
    "end"
   ]
  },
  {
   "cell_type": "code",
   "execution_count": 9,
   "id": "legislative-huntington",
   "metadata": {},
   "outputs": [
    {
     "name": "stdout",
     "output_type": "stream",
     "text": [
      "0.9999997943832314\n",
      "0.9999997943832019\n"
     ]
    }
   ],
   "source": [
    "println(∫_p(sin,0,π/2,1000))\n",
    "println(∫(sin,0,π/2,1000))"
   ]
  },
  {
   "cell_type": "code",
   "execution_count": 10,
   "id": "polar-administration",
   "metadata": {},
   "outputs": [
    {
     "data": {
      "text/plain": [
       "7.733103861945033"
      ]
     },
     "execution_count": 10,
     "metadata": {},
     "output_type": "execute_result"
    }
   ],
   "source": [
    "∫(x -> exp(sin(x)), -1, 3π/2)"
   ]
  },
  {
   "cell_type": "code",
   "execution_count": 11,
   "id": "competitive-latex",
   "metadata": {},
   "outputs": [
    {
     "data": {
      "text/plain": [
       "0.0"
      ]
     },
     "execution_count": 11,
     "metadata": {},
     "output_type": "execute_result"
    }
   ],
   "source": [
    "∫(x -> x, -1, 1)"
   ]
  },
  {
   "cell_type": "code",
   "execution_count": 12,
   "id": "sharp-authorization",
   "metadata": {},
   "outputs": [
    {
     "data": {
      "text/plain": [
       "0.4002666560000008"
      ]
     },
     "execution_count": 12,
     "metadata": {},
     "output_type": "execute_result"
    }
   ],
   "source": [
    "∫(x -> x^4, -1, 1)"
   ]
  },
  {
   "cell_type": "markdown",
   "id": "competitive-tunnel",
   "metadata": {},
   "source": [
    "[4] Calcula $\\pi$ usando 3 métodos (haz las respectivas funciones):\n",
    "\n",
    "- Midiendo el área de un polígono regular de $n$ lados de radio 1. \n",
    "- Calculando el área bajo la curva de $ f(x) = 2\\sqrt{1-x^2}$ entre -1 y 1.\n",
    "- Haciendo la serie $\\sum_{i = 1}^n \\frac{(-1)^i}{2i+1}$ (serie de Leibniz). \n",
    "\n",
    "¿Qué método lo aproxima mejor al crecer $n$?"
   ]
  },
  {
   "cell_type": "markdown",
   "id": "parental-meter",
   "metadata": {},
   "source": [
    "- Midiendo el área de un polígono regular de n lados de radio 1"
   ]
  },
  {
   "cell_type": "code",
   "execution_count": 13,
   "id": "favorite-excitement",
   "metadata": {},
   "outputs": [
    {
     "data": {
      "text/plain": [
       "area_circulo (generic function with 1 method)"
      ]
     },
     "execution_count": 13,
     "metadata": {},
     "output_type": "execute_result"
    }
   ],
   "source": [
    "function area_circulo(n) \n",
    "    circulo = [[x,sqrt(1-x^2)] for x ∈ -1:2/n:1]\n",
    "    for x ∈ 1:-2/n:-1\n",
    "        push!(circulo, [x,-sqrt(1-x^2)])\n",
    "    end\n",
    "    return area(circulo)\n",
    "end"
   ]
  },
  {
   "cell_type": "code",
   "execution_count": 14,
   "id": "organized-textbook",
   "metadata": {},
   "outputs": [
    {
     "data": {
      "text/plain": [
       "3.138268511098498"
      ]
     },
     "execution_count": 14,
     "metadata": {},
     "output_type": "execute_result"
    }
   ],
   "source": [
    "area_circulo(100)"
   ]
  },
  {
   "cell_type": "markdown",
   "id": "minute-alloy",
   "metadata": {},
   "source": [
    "- Calculando el área bajo la curva de $f(x)=2\\sqrt{1-x^2}$ entre $-1$ y $1$"
   ]
  },
  {
   "cell_type": "code",
   "execution_count": 15,
   "id": "collected-curtis",
   "metadata": {},
   "outputs": [
    {
     "data": {
      "text/plain": [
       "3.1382685110985022"
      ]
     },
     "execution_count": 15,
     "metadata": {},
     "output_type": "execute_result"
    }
   ],
   "source": [
    "∫(x -> 2*(1-x^2)^(1/2),-1,1)"
   ]
  },
  {
   "cell_type": "markdown",
   "id": "medical-dream",
   "metadata": {},
   "source": [
    "- Haciendo la serie $4\\sum_{i=1}^{n}\\frac{(-1)^i}{2i+1}$"
   ]
  },
  {
   "cell_type": "code",
   "execution_count": 16,
   "id": "pregnant-warehouse",
   "metadata": {},
   "outputs": [
    {
     "data": {
      "text/plain": [
       "leibniz (generic function with 1 method)"
      ]
     },
     "execution_count": 16,
     "metadata": {},
     "output_type": "execute_result"
    }
   ],
   "source": [
    "function leibniz(n)\n",
    "    4*sum([((-1)^ i)/(2i+1) for i in 0:n])\n",
    "end"
   ]
  },
  {
   "cell_type": "code",
   "execution_count": 17,
   "id": "basic-indonesian",
   "metadata": {},
   "outputs": [
    {
     "data": {
      "text/plain": [
       "3.15149340107099"
      ]
     },
     "execution_count": 17,
     "metadata": {},
     "output_type": "execute_result"
    }
   ],
   "source": [
    "leibniz(100)"
   ]
  },
  {
   "cell_type": "markdown",
   "id": "emerging-quarter",
   "metadata": {},
   "source": [
    "Veamos las diferencias entre el valor que registra Julia de $\\pi$ y el que nosotros obtenemos con estas funciones"
   ]
  },
  {
   "cell_type": "code",
   "execution_count": 18,
   "id": "brazilian-token",
   "metadata": {},
   "outputs": [
    {
     "name": "stdout",
     "output_type": "stream",
     "text": [
      "-0.009900747481196959\n"
     ]
    }
   ],
   "source": [
    "println(π-leibniz(100))"
   ]
  },
  {
   "cell_type": "code",
   "execution_count": 19,
   "id": "paperback-personality",
   "metadata": {},
   "outputs": [
    {
     "name": "stdout",
     "output_type": "stream",
     "text": [
      "0.0033241424912926476\n"
     ]
    }
   ],
   "source": [
    "println(π-∫_p(x -> 2*(1-x^2)^(1/2),-1,1,100))"
   ]
  },
  {
   "cell_type": "code",
   "execution_count": 20,
   "id": "intimate-depression",
   "metadata": {},
   "outputs": [
    {
     "name": "stdout",
     "output_type": "stream",
     "text": [
      "0.0033241424912908712\n"
     ]
    }
   ],
   "source": [
    "println(π-∫(x -> 2*(1-x^2)^(1/2),-1,1))"
   ]
  },
  {
   "cell_type": "code",
   "execution_count": 21,
   "id": "cubic-couple",
   "metadata": {},
   "outputs": [
    {
     "name": "stdout",
     "output_type": "stream",
     "text": [
      "0.003324142491295312\n"
     ]
    }
   ],
   "source": [
    "println(π-area_circulo(100))"
   ]
  },
  {
   "cell_type": "markdown",
   "id": "frozen-irrigation",
   "metadata": {},
   "source": [
    "De acuerdo a estos resultados tenemos que la función que arroja el error más pequeño es nuestra integral que definimos, es decir calculando el área bajo la curva"
   ]
  },
  {
   "cell_type": "markdown",
   "id": "mighty-research",
   "metadata": {},
   "source": [
    "\n",
    "\n",
    "[5] En la tarea anterior vimos que las letras con acentos son problemáticas, porque las registra como 2 símbolos, uno que se puede leer y uno que no. Lo mismo sucede con ¿, ñ, ¡, entre otros. Haz una función que tenga como argumento un texto cualquiera en español con símbolos y acentos incómodos y regrese el mismo texto en un formato legible por la ocomputadora, es decir, que quite la ñ-> gn, quite los símbolos \"raros\" del español como ¿, ¡, etc..., y quite los acentos. \n",
    "\n",
    "Prueba tu función con algún texto más o menos largo (un poema, un cuento corto, etc...). "
   ]
  },
  {
   "cell_type": "code",
   "execution_count": 5,
   "id": "primary-techno",
   "metadata": {},
   "outputs": [
    {
     "data": {
      "text/plain": [
       "\"En un lugar de la Mancha, de cuyo nombre no quiero acordarme, no ha mucho tiempo que vivia un hidalgo de los de lanza en astillero, adarga antigua, rocin flaco y galgo corredor. Una olla de algo mas vaca que carnero, salpicon las mas noches, duelos y quebrantos los sabados, lentejas los viernes, algun palomino de anadidura los domingos, consumian las tres partes de su hacienda. El resto della concluian sayo de velarte, calzas de velludo para las fiestas con sus pantuflos de lo mismo, los dias de entre semana se honraba con su vellori de lo mas fino. Tenia en su casa una ama que pasaba de los cuarenta, y una sobrina que no llegaba a los veinte, y un mozo de campo y plaza, que asi ensillaba el rocin como tomaba la podadera. Frisaba la edad de nuestro hidalgo con los cincuenta anos, era de complexion recia, seco de carnes, enjuto de rostro; gran madrugador y amigo de la caza. Quieren decir que tenia el sobrenombre de Quijada o Quesada (que en esto hay alguna diferencia en los autores que deste caso escriben), aunque por conjeturas verosimiles se deja entender que se llama Quijana; pero esto importa poco a nuestro cuento; basta que en la narracion del no se salga un punto de la verdad. Es, pues, de saber, que este sobredicho hidalgo, los ratos que estaba ocioso (que eran los mas del ano) se daba a leer libros de caballerias con tanta aficion y gusto, que olvido casi de todo punto el ejercicio de la caza, y aun la administracion de su hacienda; y llego a tanto su curiosidad y desatino en esto, que vendio muchas hanegas de tierra de sembradura, para comprar libros de caballerias en que leer; y asi llevo a su casa todos cuantos pudo haber dellos; y de todos ningunos le parecian tan bien como los que compuso el famoso Feliciano de Silva: porque la claridad de su prosa, y aquellas intrincadas razones suyas, le parecian de perlas; y mas cuando llegaba a leer aquellos requiebros y cartas de desafio, donde en muchas partes hallaba escrito: la razon de la sinrazon que a mi razon se hace, de tal manera mi razon enflaquece, que con razon me quejo de la vuestra fermosura, y tambien cuando leia: los altos cielos que de vuestra divinidad divinamente con las estrellas se fortifican, y os hacen merecedora del merecimiento que merece la vuestra grandeza. Con estas y semejantes razones perdia el pobre caballero el juicio, y desvelabase por entenderlas, y desentranarles el sentido, que no se lo sacara, ni las entendiera el mismo Aristoteles, si resucitara para solo ello. No estaba muy bien con las heridas que don Belianis daba y recibia, porque se imaginaba que por grandes maestros que le hubiesen curado, no dejaria de tener el rostro y todo el cuerpo lleno de cicatrices y senales; pero con todo alababa en su autor aquel acabar su libro con la promesa de aquella inacabable aventura, y muchas veces le vino deseo de tomar la pluma, y darle fin al pie de la letra como alli se promete; y sin duda alguna lo hiciera, y aun saliera con ello, si otros mayores y continuos pensamientos no se lo estorbaran.\""
      ]
     },
     "execution_count": 5,
     "metadata": {},
     "output_type": "execute_result"
    }
   ],
   "source": [
    "caract = [\"á\",\"é\",\"í\",\"ó\",\"ú\",\"Á\",\"É\",\"Í\",\"Ó\",\"Ú\",\"¿\",\"ñ\",\"Ñ\",\"¡\",\"”\",\"…\"]\n",
    "caract1 = [\"a\",\"e\",\"i\",\"o\",\"u\",\"A\",\"E\",\"I\",\"O\",\"U\",\"\",\"n\",\"N\",\"\",\"'\",\"\"]\n",
    "## Esta función nos indica los índices de nuestra String (el texto) donde hay algún caracter en español de los que vienen en 'caract'\n",
    "\n",
    "function skip(x)                                   # x es el texto\n",
    "    y = []\n",
    "    for j in 1:length(caract)\n",
    "        append!(y, findall(caract[j], x))          # cada iteración añade los índices que buscamos en un arreglo de rangos \n",
    "    end\n",
    "    return sort!([y[i][1] for i in 1:length(y)])   # aquí obtenemos un arreglo de numeros (más fácil de trabajar)\n",
    "    y\n",
    "end\n",
    "## Esta función nos va a dar un arreglo con los números del 1 hasta el numero de elmentos de nuestra String pero sin los índices que no queremos\n",
    "## Los caracteres en español ocupan dos lugares en el String pero el segundo causa problemas con nuestra función final, por eso no los queremos tomar en cuenta\n",
    "\n",
    "function array_bueno(x)                                 # x es String\n",
    "    u = skip(x)\n",
    "    v = [i for i in 1:(length(x) + length(u))]          # v es el arreglo con todos los números del 1 al numero de caracteres y se suma la longitud de u porque la función length() \n",
    "                                                        # cuenta a los caracteres en español como uno solo pero para nuestro caso necesitamos contar los espacios reales.     \n",
    "    for j in 1:length(u)\n",
    "        deleteat!(v, u[j] - (j-1) + 1)                  # aquí eliminamos los indices problematicos\n",
    "    end\n",
    "    v\n",
    "end\n",
    "\n",
    "# Esta función nos va a convertir nuestro texto (String) en un arreglo donde cada elemento de este es un caracter del texto, en orden \n",
    "\n",
    "function arreglos(x)                                   # x es el texto\n",
    "    y = []\n",
    "    for i in array_bueno(x)                            # i va a correr en el arreglo que obtuvimos anteriormente\n",
    "        push!(y, \"$(x[i])\")                            # aquí se forma en arreglo\n",
    "    end\n",
    "    return y\n",
    "end\n",
    "\n",
    "## En esta función se analiza cada elemento del arreglo y si encuentra un caracter en español, lo cambia poe el correspondiente a Unicode\n",
    "\n",
    "function espanol(x)                                     # x es un arreglo de caractéres\n",
    "    for i in 1:length(x)\n",
    "    for j in 1:length(caract)\n",
    "        if x[i] == caract[j]\n",
    "            deleteat!(x, i)                             # aquí borra el elemento en español\n",
    "            insert!(x, i, caract1[j])                   # aquí lo sustituye\n",
    "        else\n",
    "            continue\n",
    "        end\n",
    "    end\n",
    "    end\n",
    "    return x\n",
    "end\n",
    "\n",
    "## Por último, componemos las dos últimas funciones para que ddado un x = texto(String) nos lo convierta en otro texto pero con todos los caracteres de Unicode\n",
    "\n",
    "function traductor(x)\n",
    "    prod(espanol(arreglos(x)))\n",
    "end\n",
    "\n",
    "# Ejemplo random\n",
    "trad = traductor(\"En un lugar de la Mancha, de cuyo nombre no quiero acordarme, no ha mucho tiempo que vivía un hidalgo de los de lanza en astillero, adarga antigua, rocín flaco y galgo corredor. Una olla de algo más vaca que carnero, salpicón las más noches, duelos y quebrantos los sábados, lentejas los viernes, algún palomino de añadidura los domingos, consumían las tres partes de su hacienda. El resto della concluían sayo de velarte, calzas de velludo para las fiestas con sus pantuflos de lo mismo, los días de entre semana se honraba con su vellori de lo más fino. Tenía en su casa una ama que pasaba de los cuarenta, y una sobrina que no llegaba a los veinte, y un mozo de campo y plaza, que así ensillaba el rocín como tomaba la podadera. Frisaba la edad de nuestro hidalgo con los cincuenta años, era de complexión recia, seco de carnes, enjuto de rostro; gran madrugador y amigo de la caza. Quieren decir que tenía el sobrenombre de Quijada o Quesada (que en esto hay alguna diferencia en los autores que deste caso escriben), aunque por conjeturas verosímiles se deja entender que se llama Quijana; pero esto importa poco a nuestro cuento; basta que en la narración dél no se salga un punto de la verdad. Es, pues, de saber, que este sobredicho hidalgo, los ratos que estaba ocioso (que eran los más del año) se daba a leer libros de caballerías con tanta afición y gusto, que olvidó casi de todo punto el ejercicio de la caza, y aun la administración de su hacienda; y llegó a tanto su curiosidad y desatino en esto, que vendió muchas hanegas de tierra de sembradura, para comprar libros de caballerías en que leer; y así llevó a su casa todos cuantos pudo haber dellos; y de todos ningunos le parecían tan bien como los que compuso el famoso Feliciano de Silva: porque la claridad de su prosa, y aquellas intrincadas razones suyas, le parecían de perlas; y más cuando llegaba a leer aquellos requiebros y cartas de desafío, donde en muchas partes hallaba escrito: la razón de la sinrazón que a mi razón se hace, de tal manera mi razón enflaquece, que con razón me quejo de la vuestra fermosura, y también cuando leía: los altos cielos que de vuestra divinidad divinamente con las estrellas se fortifican, y os hacen merecedora del merecimiento que merece la vuestra grandeza. Con estas y semejantes razones perdía el pobre caballero el juicio, y desvelábase por entenderlas, y desentrañarles el sentido, que no se lo sacara, ni las entendiera el mismo Aristóteles, si resucitara para sólo ello. No estaba muy bien con las heridas que don Belianis daba y recibía, porque se imaginaba que por grandes maestros que le hubiesen curado, no dejaría de tener el rostro y todo el cuerpo lleno de cicatrices y señales; pero con todo alababa en su autor aquel acabar su libro con la promesa de aquella inacabable aventura, y muchas veces le vino deseo de tomar la pluma, y darle fin al pie de la letra como allí se promete; y sin duda alguna lo hiciera, y aun saliera con ello, si otros mayores y continuos pensamientos no se lo estorbaran.\")"
   ]
  },
  {
   "cell_type": "code",
   "execution_count": 6,
   "id": "written-slave",
   "metadata": {},
   "outputs": [
    {
     "data": {
      "text/plain": [
       "\"Nad\""
      ]
     },
     "execution_count": 6,
     "metadata": {},
     "output_type": "execute_result"
    }
   ],
   "source": [
    "traductor(\"Nad\")"
   ]
  },
  {
   "cell_type": "markdown",
   "id": "veterinary-smith",
   "metadata": {},
   "source": [
    "[6] Haz una función que tenga como argumento un texto en español y que regrese un arreglo con las palabras que contiene el texto (modificadas para ser legibles en la computadora) ordenadas de la palabra más frecuente a la menos frecuente y también regrese un arreglo con el número de veces que aparece cada palabra. Asegúrate de eliminar los signos de puntuación. Asegúrate que los signos como ? no estén incluidos en las palabras. \n",
    "\n",
    "Prueba tu función con un texto muy largos (al menos que tenga unas mil palabras).\n"
   ]
  },
  {
   "cell_type": "code",
   "execution_count": 23,
   "id": "competent-islam",
   "metadata": {},
   "outputs": [
    {
     "data": {
      "text/plain": [
       "305-element Vector{Any}:\n",
       " Any[\"de\", 43]\n",
       " Any[\"y\", 28]\n",
       " Any[\"que\", 23]\n",
       " Any[\"la\", 16]\n",
       " Any[\"los\", 13]\n",
       " Any[\"se\", 11]\n",
       " Any[\"con\", 10]\n",
       " Any[\"el\", 10]\n",
       " Any[\"en\", 9]\n",
       " Any[\"su\", 9]\n",
       " Any[\"no\", 7]\n",
       " Any[\"a\", 7]\n",
       " Any[\"las\", 6]\n",
       " ⋮\n",
       " Any[\"alli\", 1]\n",
       " Any[\"promete;\", 1]\n",
       " Any[\"sin\", 1]\n",
       " Any[\"duda\", 1]\n",
       " Any[\"hiciera,\", 1]\n",
       " Any[\"saliera\", 1]\n",
       " Any[\"ello,\", 1]\n",
       " Any[\"otros\", 1]\n",
       " Any[\"mayores\", 1]\n",
       " Any[\"continuos\", 1]\n",
       " Any[\"pensamientos\", 1]\n",
       " Any[\"estorbaran.\", 1]"
      ]
     },
     "execution_count": 23,
     "metadata": {},
     "output_type": "execute_result"
    }
   ],
   "source": [
    "function frecuencia(g)\n",
    "    a=split(g, \" \")\n",
    "    l=[]\n",
    "    h=[]\n",
    "    z=unique(a)\n",
    "    for n ∈ 1:length(z)\n",
    "         d=0\n",
    "        for i ∈ 1:length(a)\n",
    "        if z[n]==a[i]\n",
    "            d+=1\n",
    "            end\n",
    "        end\n",
    "    \n",
    "    push!(h, d)\n",
    "    \n",
    "    end\n",
    "    append!(l, [z[i], h[i]] for i ∈ 1:length(z))\n",
    "    y=sort!(l, by = x -> x[2], rev=true)\n",
    "    \n",
    "    return y\n",
    "end \n",
    "frecuencia(trad)"
   ]
  },
  {
   "cell_type": "markdown",
   "id": "australian-salon",
   "metadata": {},
   "source": [
    "[7] Haz un objeto Segmento, LineaPoligonal,  Polígono, SuperficiePoliedrica y Poliedro. El segmento debe contener como propiedades dónde inicia, dónde termina y su longitud. La linea poligonal debe contener una lista ordenada de vértices y una de segmentos, así como su longitud. El polígono debe contener como propiedades una lista ordenada de sus vértices, una lista ordenada de sus segmentos, su perímetro y su área. La superficie poliédrica debe contener una lista de polígonos, y la superficie. Finalemente, el poliedro debe contener una lista de caras (que son polígonos), su superficie y su volumen. \n",
    "\n",
    "**Nota:** Los objetos por convención se designa la primera en mayúsculas, mientras que las variables es todas minúsculas. Las funciones en cambio en general se escriben con minúsculas, excepto cuando se refieran a un objeto.\n",
    "\n",
    "**Nota2:** Yo hago la excepción con las variables cuando son matrices, en cuyo caso también permito que sean con mayúscula la primera. "
   ]
  },
  {
   "cell_type": "code",
   "execution_count": 24,
   "id": "neither-wrong",
   "metadata": {},
   "outputs": [],
   "source": [
    "abstract type Figura end"
   ]
  },
  {
   "cell_type": "code",
   "execution_count": 25,
   "id": "silent-onion",
   "metadata": {},
   "outputs": [],
   "source": [
    "mutable struct Segmento <: Figura\n",
    "    inicio::Array{Float64}\n",
    "    final::Array{Float64}\n",
    "    longitud::Real\n",
    "end"
   ]
  },
  {
   "cell_type": "code",
   "execution_count": 26,
   "id": "premium-chart",
   "metadata": {},
   "outputs": [],
   "source": [
    "mutable struct LineaPoligonal <: Figura\n",
    "    vertices::Array{Array{Float64, 1}, 1}\n",
    "    segmentos::Array{Segmento, 1}\n",
    "    longitud::Real\n",
    "end"
   ]
  },
  {
   "cell_type": "code",
   "execution_count": 27,
   "id": "living-syria",
   "metadata": {},
   "outputs": [],
   "source": [
    "mutable struct Poligono <: Figura\n",
    "    vertices::Array{Array{Float64, 1}, 1}\n",
    "    segmentos::Array{Segmento, 1}\n",
    "    perimetro::Real\n",
    "    area::Real\n",
    "end"
   ]
  },
  {
   "cell_type": "code",
   "execution_count": 28,
   "id": "biological-theorem",
   "metadata": {},
   "outputs": [],
   "source": [
    "mutable struct SuperficiePoliedrica <: Figura\n",
    "    poligonos::Array{Poligono}\n",
    "    superficie::Real\n",
    "end"
   ]
  },
  {
   "cell_type": "code",
   "execution_count": 29,
   "id": "qualified-alaska",
   "metadata": {},
   "outputs": [],
   "source": [
    "mutable struct Poliedro <: Figura\n",
    "    caras::Array{Poligono}\n",
    "    superficie::Real\n",
    "    volumen::Real\n",
    "end"
   ]
  },
  {
   "cell_type": "markdown",
   "id": "atlantic-prerequisite",
   "metadata": {},
   "source": [
    "[8] Agrega a \"+\" los siguientes métodos:\n",
    "- +(:Segmento, :Vector): Si los vértices del objeto Segmento y el Vector tienen la misma dimensión, entonces debe arrojar un objeto :LineaPoligonal cuyos vértices sean los dos vértices del segmento y el vector. En otro caso debe arrojar un error de dimensión (ver la documentación de la función error). \n",
    "- +(:Segmento, :Segmento): Si el vértice final del primer segmento es el mismo que el vértice inicial del segundo segmento, debe arrojar una LineaPoligonal que tenga como segmentos a ambos segmentos de la suma. En otro caso debe arrojar un error (de posición). \n",
    "- +(:LineaPoligonal, :Vector): Debe arrojar una linea poligonal que tenga como vértices todos los vértices de la linea poligonal inicial unión el vectoro. Si el vector no tiene la misma dimiensión que los vértices de la línea poligonal, entonces debe arrojar un error. \n",
    "- +(:LineaPoligonal, :Segmento): Debe arrojar también una linea poligonal, cuyos segmentos sean todos los segmentos involucrados, comenzando por los de la línea poligonal y terminando con el segmento. Si el último vértice de la línea poligonal no coincide con el primero del segmento, entonces debe arrojar un error de posición. \n",
    "- +(:LineaPoligonal, :LineaPoligonal):   Debe arrojar también una linea poligonal, cuyos segmentos sean todos los segmentos involucrados, comenzando por los de la primera línea poligonal y terminando con los de la segunda línea poligonal. Si el último vértice de la primera línea poligonal no coincide con el primero de la segunda, entonces debe arrojar un error de posición. \n",
    "- +(:Polígono, :Polígono): Si uno y sólo uno de los segmentos es igual en ambos polígonos, debe arrojar una superficie poliedrica que tenga como caras ambos polígonos y la superficien sea la suma de las áreas de los polígonos. En otro caso arrojar un error. \n",
    "- +(:SuperficiePoliedrica, :Polígono). Si al menos una (pueden ser varias) de las aristas de la superficie poliedrica coinciden con alguna de las aristas del polígono, entonces debe arrojar una superficien poliedrica cuyas caras sea la unión de todos los polígonos involucrados. En otro caso debe arrojar un error. \n",
    "- +(:SuperficiePoliedrica, :SuperficiePoliedrica), debe arrojar una superficie poliedrica cuyas caras sean todas las involucradas. Debe arrojar un error si no coindicen por lo menos 1 arista de ambas superficies.\n",
    "\n",
    "También agrega todos los conmutados, es decir +(:Vector, :Segmento),+(:Vector, LinealPoligonal), etc..."
   ]
  },
  {
   "cell_type": "code",
   "execution_count": 30,
   "id": "marine-egyptian",
   "metadata": {},
   "outputs": [
    {
     "data": {
      "text/plain": [
       "+ (generic function with 198 methods)"
      ]
     },
     "execution_count": 30,
     "metadata": {},
     "output_type": "execute_result"
    }
   ],
   "source": [
    "using LinearAlgebra\n",
    "import Base.+\n",
    "\n",
    "function +(x::Segmento, y::Vector)\n",
    "    if length(x.inicio)==length(y)\n",
    "        return LineaPoligonal([x.inicio, x.final, y],[x,Segmento(x.final,y,norm(x.final-y))],x.longitud+norm(x.final-y))\n",
    "    else\n",
    "        return error(\"Error de dimensión\")\n",
    "    end\n",
    "end\n",
    "\n",
    "function +(x::Segmento, y::Segmento)\n",
    "    if x.final==y.inicio\n",
    "        return LineaPoligonal([x.inicio,x.final,y.final],[x,y],x.longitud+y.longitud)\n",
    "    else\n",
    "        return error(\"Error de posición\")\n",
    "    end\n",
    "end\n",
    "\n",
    "function +(x::LineaPoligonal, y::Vector)\n",
    "    if length(x.vertices[1])==length(y)\n",
    "        return LineaPoligonal(x.vertices ∪ [y],x.segmentos ∪ [Segmento(x.vertices[end],y,norm(y-x.vertices[end]))],x.longitud+norm(y-x.vertices[end]))\n",
    "    else\n",
    "        return error(\"Error de dimensión\")\n",
    "    end\n",
    "end\n",
    "\n",
    "function +(x::LineaPoligonal, y::Segmento)\n",
    "    if x.vertices[end]==y.inicio\n",
    "        return LineaPoligonal(x.vertices ∪ [y.final],x.segmentos ∪ [y],x.longitud+y.longitud)\n",
    "    else\n",
    "        return error(\"Error de posición\")\n",
    "    end\n",
    "end\n",
    "\n",
    "function +(x::LineaPoligonal, y::LineaPoligonal)\n",
    "    if x.vertices[end]==y.vertices[1]\n",
    "        return LineaPoligonal(x.vertices ∪ y.vertices,x.segmentos ∪ y.segmentos,x.longitud+y.longitud)\n",
    "    else\n",
    "        return error(\"Error de posición\")\n",
    "    end\n",
    "end\n",
    "\n",
    "function +(x::Poligono, y::Poligono)\n",
    "    b=0\n",
    "    \n",
    "    for z in x.segmentos  \n",
    "        if (z in y.segmentos) && (b==0)\n",
    "            c=z\n",
    "            b=1\n",
    "            continue\n",
    "    \n",
    "        elseif (z in y.segmentos) && (z!=c) \n",
    "            return error(\"2 o mas segmentos coinciden\")\n",
    "        end\n",
    "    end\n",
    "    \n",
    "    if b==1\n",
    "        return Poligono(x.vertices ∪ y.vertices, filter!(u->u!=c,x.segmentos ∪ y.segmentos),x.perimetro+y.perimetro,x.area+y.area)\n",
    "    else\n",
    "        return error(\"No hay segmentos coincidentes\")\n",
    "    end\n",
    "end\n",
    "\n",
    "function +(x::SuperficiePoliedrica, y::Poligono)\n",
    "    for z in y.segmentos\n",
    "        for i in 1:length(x.poligonos)\n",
    "            if z in x.poligonos[i].segmentos\n",
    "                return SuperficiePoliedrica(x.poligonos ∪ [y],x.superficie+y.area)\n",
    "            end\n",
    "        end\n",
    "    end\n",
    "    return error(\"No hay segmentos coincidentes\")\n",
    "end\n",
    "\n",
    "function +(x::SuperficiePoliedrica, y::SuperficiePoliedrica)\n",
    "    for i in 1:length(x.poligonos)\n",
    "        for j in 1:length(y.poligonos)\n",
    "            if (x.poligonos[i].segmentos ∩ y.poligonos[j].segmentos) == []\n",
    "                return SuperficiePoliedrica(x.poligonos ∪ y.poligonos, x.superficie+y.superficie)\n",
    "            end\n",
    "        end\n",
    "    end\n",
    "    return (\"No hay segmentos coincidentes\")\n",
    "end\n",
    "  \n",
    "\n",
    "    \n",
    "\n",
    "\n"
   ]
  },
  {
   "cell_type": "markdown",
   "id": "robust-cheese",
   "metadata": {},
   "source": [
    "[9] Haz una función Segmento que requiere de 2 vértices (en cualquier dimensión) y una Polígono que tome como argumento una lista de vértices 2D. La función Segmento debe generar un objeto Segmento cuyo vértice inicial sea el primer vértice y el vértice final el segundo vértice y su longitud sea la distancia entre ambos vértices. La función Polígono debe generar un objeto Polígono, cuyos vértices sean los vértices de la lista, las aristas (segmentos) sean las generadas usando 2 vértices vecinos de la lista (el primero y el último de los vértices son también vecinos), su perímetro sea la suma de las longitudes de las aristas y su área sea el área del polígono que tiene esas aristas. Prueba esta última función con varios conjuntos de vértices de los cuales puedas calcular analíticamente el perímetro y área del polígono que generen."
   ]
  },
  {
   "cell_type": "code",
   "execution_count": 31,
   "id": "outside-audit",
   "metadata": {},
   "outputs": [
    {
     "data": {
      "text/plain": [
       "poligono (generic function with 1 method)"
      ]
     },
     "execution_count": 31,
     "metadata": {},
     "output_type": "execute_result"
    }
   ],
   "source": [
    "function segmento(x1,x2)\n",
    "    return Segmento(x1,x2,norm(x1-x2))\n",
    "end\n",
    "\n",
    "function poligono(x)\n",
    "    no_lados = length(x)\n",
    "    \n",
    "    segmentos = [segmento(x[i], x[i+1]) for i ∈ 1:no_lados-1]\n",
    "    \n",
    "    push!(segmentos, segmento(x[no_lados], x[1]))\n",
    "    \n",
    "    p = sum([s.longitud for s ∈ segmentos]) #p = perimetro\n",
    "    \n",
    "    return Poligono(x, segmentos, p, area(x))\n",
    "end"
   ]
  },
  {
   "cell_type": "markdown",
   "id": "suitable-temple",
   "metadata": {},
   "source": [
    "[10] Un problema típico en física computacional es saber si una partícula se encuentra \"dentro\" de algo o \"fuera\" de ese algo. Para polígonos (2D) una forma de resolver esto es \"lanzando semi-rayos\" desde la partícula hacia el exterior. Si el semi-rayo cruza un número impar de aristas, entonces se encuentra dentro del polígono. Si cruza un número par se encuentra fuera. Haz una función que dado un polígono 2D y un punto, diga si el punto se encuentra dentro o fuera del polígono."
   ]
  },
  {
   "cell_type": "code",
   "execution_count": 32,
   "id": "authentic-practitioner",
   "metadata": {},
   "outputs": [
    {
     "data": {
      "text/plain": [
       "\"Afuera\""
      ]
     },
     "execution_count": 32,
     "metadata": {},
     "output_type": "execute_result"
    }
   ],
   "source": [
    "function particula_poligono(a::Poligono,p1::Vector{Float64})\n",
    "\n",
    "    function crz(s1::Segmento,s2::Segmento)       \n",
    "        if (([s1.final[1]-s1.inicio[1],s1.final[2]-s1.inicio[2],0]×[s2.final[1]-s1.inicio[1],s2.final[2]-s1.inicio[2],0])[3] > 0) ⊻ (([s1.final[1]-s1.inicio[1],s1.final[2]-s1.inicio[2],0]×[s2.inicio[1]-s1.inicio[1],s2.inicio[2]-s1.inicio[2],0])[3] > 0)\n",
    "            if (([s2.final[1]-s2.inicio[1],s2.final[2]-s2.inicio[2],0]×[s1.final[1]-s2.inicio[1],s1.final[2]-s2.inicio[2],0])[3] > 0) ⊻ (([s2.final[1]-s2.inicio[1],s2.final[2]-s2.inicio[2],0]×[s1.inicio[1]-s2.inicio[1],s1.inicio[2]-s2.inicio[2],0])[3] > 0)\n",
    "                return 1\n",
    "            else\n",
    "                return 0\n",
    "            end\n",
    "        else\n",
    "            return 0\n",
    "        end\n",
    "     end\n",
    "    \n",
    "    function dir()        \n",
    "        d=[rand()*rand([0,1]),rand()*rand([1,0])] #Tomamos una direccion aleatoria\n",
    "        d=d/norm(d)\n",
    "        return d\n",
    "    end\n",
    "    \n",
    "      p2=p1+2*maximum([norm(p1-a.vertices[i]) for i ∈ 1:length(a.vertices)])*dir()\n",
    "     rayo=segmento(p1,p2)                       #Creamos el semi-rayo\n",
    "\n",
    "      prueba=sum([crz(rayo,a.segmentos[i]) for i ∈ 1:length(a.segmentos)])\n",
    "    \n",
    "    if mod(prueba,2) == 0\n",
    "        return \"Afuera\"\n",
    "    else\n",
    "        return \"Adentro\"\n",
    "    end\n",
    "end \n",
    "x=[[-1,-1],[1,-1],[0,1]]\n",
    "triangulo=poligono(x)\n",
    "particula_poligono(triangulo,[0.,2.])"
   ]
  },
  {
   "cell_type": "markdown",
   "id": "royal-desire",
   "metadata": {},
   "source": [
    "[11] Haz una función que dada una línea poligonal, una posición inicial (en el plano) un ángulo y rapidez inicial, calcule la distancia (y tiempo) que recorre (tarda) una partícula que se tira con tiro parabólico hasta que \"cae\" en la linea poligonal.\n",
    "\n",
    "**Hint:** El problema te conviene partirlo en \"cachitos\". Primero haz una función para verificar que un punto (en 2D) se encuentra dentro de un segmento (también 2D). Después has una función para calcular la intersección entre el tiro parabólico y una recta con pendiente arbitraria. Después une estos dos para hacer una función que calcula si un tiro parabólico intersecta un segmento dado. Finalmente revisa si el tiro parabólico intersecta una linea poligonal y dónde. Si lo hace en varios lugares, quédate con el de menor tiempo positivo. "
   ]
  },
  {
   "cell_type": "code",
   "execution_count": null,
   "id": "alert-spare",
   "metadata": {},
   "outputs": [],
   "source": []
  },
  {
   "cell_type": "markdown",
   "id": "standard-constitution",
   "metadata": {},
   "source": [
    "[12] Haz un objeto llamado Cuaternión que sea un número (vas a necesitar usar el objeto abstracto Number), que contenga la parte real, y las 3 partes imaginarias. Agrega a este objeto las operaciones de suma, resta, producto, cociente, conjugado, norma y exponencial (revisa cómo se operan los cuaternones aquí: https://en.wikipedia.org/wiki/Quaternion).\n",
    "\n",
    "Prueba que tu objeto hace lo que debe hacer un cuaternión con esas operaciones algebráicas básicas.\n",
    "\n",
    "Nota: Necesitarás cargar la paquetería de LinearAlgebra para la norma."
   ]
  },
  {
   "cell_type": "code",
   "execution_count": 33,
   "id": "neutral-casino",
   "metadata": {},
   "outputs": [
    {
     "data": {
      "text/plain": [
       "Quaternion(1, [2, 2, 2])"
      ]
     },
     "execution_count": 33,
     "metadata": {},
     "output_type": "execute_result"
    }
   ],
   "source": [
    "using LinearAlgebra\n",
    "mutable struct Quaternion <: Number\n",
    "   a1::Real\n",
    "   a2::Array\n",
    "end\n",
    "\n",
    "prueba1=Quaternion(1,[1, 2, 3])\n",
    "prueba2=Quaternion(1, [2,2, 2])"
   ]
  },
  {
   "cell_type": "code",
   "execution_count": 34,
   "id": "lesser-tourism",
   "metadata": {},
   "outputs": [
    {
     "data": {
      "text/plain": [
       "Quaternion(2, [3, 4, 5])"
      ]
     },
     "execution_count": 34,
     "metadata": {},
     "output_type": "execute_result"
    }
   ],
   "source": [
    "#suma\n",
    "function suma(x::Quaternion, y::Quaternion)\n",
    "    c=Quaternion(0,[0, 0, 0])\n",
    "    c.a1=x.a1+y.a1\n",
    "    c.a2=x.a2+y.a2\n",
    "    return c\n",
    "end\n",
    "suma(prueba1, prueba2)"
   ]
  },
  {
   "cell_type": "code",
   "execution_count": 35,
   "id": "accessible-identification",
   "metadata": {},
   "outputs": [
    {
     "data": {
      "text/plain": [
       "Quaternion(0, [-1, 0, 1])"
      ]
     },
     "execution_count": 35,
     "metadata": {},
     "output_type": "execute_result"
    }
   ],
   "source": [
    "#resta\n",
    "function resta(x::Quaternion, y::Quaternion)\n",
    "    c=Quaternion(0,[0, 0, 0])\n",
    "    c.a1=x.a1-y.a1\n",
    "    c.a2=x.a2-y.a2\n",
    "    return c\n",
    "end\n",
    "resta(prueba1, prueba2)"
   ]
  },
  {
   "cell_type": "code",
   "execution_count": 36,
   "id": "enabling-small",
   "metadata": {},
   "outputs": [
    {
     "data": {
      "text/plain": [
       "Quaternion(-11, [1, 8, 3])"
      ]
     },
     "execution_count": 36,
     "metadata": {},
     "output_type": "execute_result"
    }
   ],
   "source": [
    "#producto\n",
    "function producto(x::Quaternion, y::Quaternion)\n",
    "    c=Quaternion(0,[0, 0, 0])\n",
    "    c.a1=(x.a1*y.a1)-dot(x.a2, y.a2)\n",
    "    c.a2=(x.a1 * y.a2)+(y.a1 * x.a2)+cross(x.a2,y.a2)\n",
    "    return c\n",
    "end\n",
    "producto(prueba1, prueba2)"
   ]
  },
  {
   "cell_type": "code",
   "execution_count": 37,
   "id": "martial-publicity",
   "metadata": {},
   "outputs": [
    {
     "data": {
      "text/plain": [
       "conjugado (generic function with 1 method)"
      ]
     },
     "execution_count": 37,
     "metadata": {},
     "output_type": "execute_result"
    }
   ],
   "source": [
    "#conjugado\n",
    "function conjugado(x::Quaternion)\n",
    "    c=Quaternion(0,[0, 0, 0])\n",
    "    c.a1=-x.a1\n",
    "    c.a2=-1*x.a2\n",
    "    return c\n",
    "end"
   ]
  },
  {
   "cell_type": "code",
   "execution_count": 38,
   "id": "hundred-complaint",
   "metadata": {},
   "outputs": [
    {
     "data": {
      "text/plain": [
       "3.872983346207417"
      ]
     },
     "execution_count": 38,
     "metadata": {},
     "output_type": "execute_result"
    }
   ],
   "source": [
    "#norma\n",
    "function norma(x::Quaternion)\n",
    "    c=norm(x.a2)\n",
    "    this_norma=√((x.a1^2)+(c^2))\n",
    "    return this_norma\n",
    "end\n",
    "norma(prueba1)"
   ]
  },
  {
   "cell_type": "code",
   "execution_count": 39,
   "id": "acknowledged-istanbul",
   "metadata": {},
   "outputs": [
    {
     "data": {
      "text/plain": [
       "Quaternion(-0.2581988897471611, [-0.2581988897471611, -0.5163977794943222, -0.7745966692414833])"
      ]
     },
     "execution_count": 39,
     "metadata": {},
     "output_type": "execute_result"
    }
   ],
   "source": [
    "#inverso\n",
    " function inverso(x::Quaternion)\n",
    "    c=Quaternion(0,[0, 0, 0])\n",
    "    c.a1=conjugado(x).a1/norma(conjugado(x))\n",
    "    c.a2=(1/norma(x))*conjugado(x).a2\n",
    "    return c\n",
    "end\n",
    "inverso(prueba1)"
   ]
  },
  {
   "cell_type": "code",
   "execution_count": 40,
   "id": "simple-tennessee",
   "metadata": {},
   "outputs": [
    {
     "data": {
      "text/plain": [
       "Quaternion(3.05085107923876, [-0.2773500981126146, -2.2188007849009166, -0.8320502943378438])"
      ]
     },
     "execution_count": 40,
     "metadata": {},
     "output_type": "execute_result"
    }
   ],
   "source": [
    "#cociente\n",
    "function cociente(x::Quaternion, y::Quaternion)\n",
    "    c=producto(x,inverso(y))\n",
    "    return c\n",
    "end\n",
    "cociente(prueba1,prueba2)"
   ]
  },
  {
   "cell_type": "code",
   "execution_count": 41,
   "id": "civil-saturday",
   "metadata": {},
   "outputs": [
    {
     "data": {
      "text/plain": [
       "Quaternion(-2.243395443483469, [-0.4102467013089509, -0.8204934026179018, -1.2307401039268528])"
      ]
     },
     "execution_count": 41,
     "metadata": {},
     "output_type": "execute_result"
    }
   ],
   "source": [
    "#exponencial\n",
    "function exponencial(x::Quaternion)\n",
    "    c=Quaternion(0,[0, 0, 0])\n",
    "    c.a1=exp(x.a1)*cos(norm(x.a2))\n",
    "    c.a2=((exp(x.a1)*sin(norm(x.a2)))/norm(x.a2))*x.a2\n",
    "    return c\n",
    "end\n",
    "exponencial(prueba1)"
   ]
  },
  {
   "cell_type": "markdown",
   "id": "answering-vegetation",
   "metadata": {},
   "source": [
    "[13] Usa el objeto anterior para definir una función de rotación en 3D dado un eje de rotación y un ángulo de giro. Revisa (https://en.wikipedia.org/wiki/Quaternions_and_spatial_rotation). "
   ]
  },
  {
   "cell_type": "code",
   "execution_count": 42,
   "id": "stainless-anniversary",
   "metadata": {},
   "outputs": [
    {
     "data": {
      "text/plain": [
       "rotacion (generic function with 1 method)"
      ]
     },
     "execution_count": 42,
     "metadata": {},
     "output_type": "execute_result"
    }
   ],
   "source": [
    "using LinearAlgebra\n",
    "function rotacion(θ, eje, rot)\n",
    "    ejen = [eje[i]/norm(eje) for i in 1:3]\n",
    "    ejenorm = Quaternion(0, ejen)\n",
    "    q = Quaternion(cos(θ/2), sin(θ/2)*[ejen[1], ejen[2], ejen[3]])\n",
    "    qi = inverso(q)\n",
    "    rotquat = Quaternion(0,rot)\n",
    "    p = producto(rotquat,qi)\n",
    "    return producto(q,p).a2\n",
    "end"
   ]
  },
  {
   "cell_type": "code",
   "execution_count": 43,
   "id": "laughing-tunnel",
   "metadata": {},
   "outputs": [
    {
     "data": {
      "text/plain": [
       "3-element Vector{Float64}:\n",
       "  1.0\n",
       " -1.0\n",
       " -0.9999999999999999"
      ]
     },
     "execution_count": 43,
     "metadata": {},
     "output_type": "execute_result"
    }
   ],
   "source": [
    "rotacion(π,[1,0,0],[1,1,1])"
   ]
  },
  {
   "cell_type": "markdown",
   "id": "phantom-helicopter",
   "metadata": {},
   "source": [
    "## Ejercicios avanzados\n"
   ]
  },
  {
   "cell_type": "markdown",
   "id": "female-morocco",
   "metadata": {},
   "source": [
    "**Para sacar 7:** Repite el ejercicio 11 pero en el caso 3D, es decir, en vez de usar una línea poligonal, utiliza una superficie poliedrica y el tiro parabólico es una parábola en 3D."
   ]
  },
  {
   "cell_type": "code",
   "execution_count": null,
   "id": "better-baseline",
   "metadata": {},
   "outputs": [],
   "source": []
  },
  {
   "cell_type": "markdown",
   "id": "operating-contemporary",
   "metadata": {},
   "source": [
    "**Para sacar 8** Gráficas con símbolos. Una forma de graficar es simplemente imprimir una matriz con símbolos. Usando la función print y el símbolo \\n para saltar linea, puedes imprimir adecuadamente los símbolos para dibujar una función grafica_con_simbolos(p, x, y), por ejemplo, poniendo el símbolo \"x\" para cuando un punto está ocupado y el símbolo \" \" para cuando no. Usando esta idea haz una función que grafique los puntos de un arreglo de puntos $[\\vec{p}_1, \\dots, \\vec{p}_n]$, dado los límites en el eje $x$ y $y$. \n",
    "\n",
    "Agrega a tu función grafica_con_simbolos el método función grafica_con_simbolos(:Segmento, x,y) para que te grafique un segmento, generando por ejemplo 8 puntos intermedios+ los dos puntos de los extremos. También agrega función grafica_con_simbolos(:Poligono, x,y). Prueba tu función con algunos polígonos simples. "
   ]
  },
  {
   "cell_type": "code",
   "execution_count": 45,
   "id": "brilliant-burst",
   "metadata": {},
   "outputs": [
    {
     "name": "stdout",
     "output_type": "stream",
     "text": [
      "                                 x\n",
      "                                  \n",
      "                                  \n",
      "                                  \n",
      "                                  \n",
      "                                  \n",
      "                                  \n",
      "                                  \n",
      "                                  \n",
      "                                  \n",
      "                                  \n",
      "                                  \n",
      "                                  \n",
      "                                  \n",
      "                                  \n",
      "                                  \n",
      "                                  \n",
      "                                  \n",
      "                                  \n",
      "                                  \n",
      "                                  \n",
      "                                  \n",
      "                                  \n",
      "                                  \n",
      "       x x                        \n",
      "x                                 \n",
      "       x                          \n",
      "      x                           \n",
      "                                  \n",
      "                       x          \n",
      "                   x                    \n",
      "                  x x                   \n",
      "                 x   x                  \n",
      "                x     x                 \n",
      "               x       x                \n",
      "              x         x               \n",
      "             x           x              \n",
      "            x             x             \n",
      "           x               x            \n",
      "          x                 x           \n",
      "         x                   xx         \n",
      "        x                      x        \n",
      "       x                        x       \n",
      "      x                          x      \n",
      "     x                            x     \n",
      "    x                              x    \n",
      "   x                                x   \n",
      "  x                                  x  \n",
      " x                                    x \n",
      "xxxxxxxxxxxxxxxxxxxxxxxxxxxxxxxxxxxxxxxx\n",
      "         x\n",
      "        x \n",
      "       x  \n",
      "      x   \n",
      "     x    \n",
      "     x    \n",
      "    x     \n",
      "   x      \n",
      "  x       \n",
      " x        \n",
      "x         \n"
     ]
    },
    {
     "data": {
      "text/plain": [
       "11×10 Matrix{String}:\n",
       " \" \"  \" \"  \" \"  \" \"  \" \"  \" \"  \" \"  \" \"  \" \"  \"x\"\n",
       " \" \"  \" \"  \" \"  \" \"  \" \"  \" \"  \" \"  \" \"  \"x\"  \" \"\n",
       " \" \"  \" \"  \" \"  \" \"  \" \"  \" \"  \" \"  \"x\"  \" \"  \" \"\n",
       " \" \"  \" \"  \" \"  \" \"  \" \"  \" \"  \"x\"  \" \"  \" \"  \" \"\n",
       " \" \"  \" \"  \" \"  \" \"  \" \"  \"x\"  \" \"  \" \"  \" \"  \" \"\n",
       " \" \"  \" \"  \" \"  \" \"  \" \"  \"x\"  \" \"  \" \"  \" \"  \" \"\n",
       " \" \"  \" \"  \" \"  \" \"  \"x\"  \" \"  \" \"  \" \"  \" \"  \" \"\n",
       " \" \"  \" \"  \" \"  \"x\"  \" \"  \" \"  \" \"  \" \"  \" \"  \" \"\n",
       " \" \"  \" \"  \"x\"  \" \"  \" \"  \" \"  \" \"  \" \"  \" \"  \" \"\n",
       " \" \"  \"x\"  \" \"  \" \"  \" \"  \" \"  \" \"  \" \"  \" \"  \" \"\n",
       " \"x\"  \" \"  \" \"  \" \"  \" \"  \" \"  \" \"  \" \"  \" \"  \" \""
      ]
     },
     "execution_count": 45,
     "metadata": {},
     "output_type": "execute_result"
    }
   ],
   "source": [
    "using LinearAlgebra\n",
    "function grafica_con_simbolos(x::Vector{Vector{Int64}},p)\n",
    "    s=[\" \" for i in 1:maximum([x[n][2] for n in 1:length(x)])-minimum([x[n][2] for n in 1:length(x)])+1,j in 1:maximum([x[n][1] for n in 1:length(x)])-minimum([x[n][1] for n in 1:length(x)])+1]\n",
    "     for i in 1:length(x)\n",
    "          s[maximum([x[n][2] for n in 1:length(x)])+1-x[i][2],x[i][1]-minimum([x[n][1] for n in 1:length(x)])+1]=p\n",
    "     end\n",
    "    for l in 1:maximum([x[n][2] for n in 1:length(x)])-minimum([x[n][2] for n in 1:length(x)])+1\n",
    "        println(join(s[l,:]))\n",
    "    end \n",
    "    return s\n",
    "end\n",
    "\n",
    "function coord(x::Segmento)\n",
    "\n",
    "    if abs(x.inicio[1]-x.final[1])<abs(x.inicio[2]-x.final[2])\n",
    "        \n",
    "        if x.inicio[2]<x.final[2]\n",
    "             y=[[Int(round((j-x.inicio[2])*(x.final[1]-x.inicio[1])/(x.final[2]-x.inicio[2])+x.inicio[1])),Int(j)] for j in x.inicio[2]:x.final[2]]\n",
    "        elseif x.inicio[2]>x.final[2]\n",
    "             y=[[Int(round((j-x.final[2])*(x.inicio[1]-x.final[1])/(x.inicio[2]-x.final[2])+x.final[1])),Int(j)] for j in x.final[2]:x.inicio[2]]\n",
    "        end\n",
    "        \n",
    "    elseif abs(x.inicio[1]-x.final[1])>abs(x.inicio[2]-x.final[2])\n",
    "        \n",
    "        if x.inicio[1]<x.final[1]\n",
    "             y=[[Int(j),Int(round((j-x.inicio[1])*(x.final[2]-x.inicio[2])/(x.final[1]-x.inicio[1])+x.inicio[2]))] for j in x.inicio[1]:x.final[1]]\n",
    "        elseif x.inicio[1]>x.final[1]\n",
    "             y=[[Int(j),Int(round((j-x.final[1])*(x.inicio[2]-x.final[2])/(x.inicio[1]-x.final[1])+x.final[2]))] for j in x.final[1]:x.inicio[1]]\n",
    "        end\n",
    "    \n",
    "    else\n",
    "        y=[[Int(j),Int(j)] for j in min(x.inicio[1],x.final[1]):max(x.inicio[1],x.final[1])]\n",
    "    end\n",
    "    return y\n",
    "end\n",
    "\n",
    "function grafica_con_simbolos(x::Segmento,q)\n",
    "    \n",
    "    grafica_con_simbolos(coord(x),q)\n",
    "\n",
    "end\n",
    "\n",
    "function grafica_con_simbolos(x::Poligono,q)\n",
    "   \n",
    "    z=coord(x.segmentos[1])\n",
    "    \n",
    "    for i in 2:length(x.segmentos)\n",
    "        z=z ∪ coord(x.segmentos[i])\n",
    "    end\n",
    "    \n",
    "    grafica_con_simbolos(z,q)\n",
    "        \n",
    "end\n",
    "\n",
    "s=Segmento([21,40],[30,50],norm([2,2]-[2,1]))\n",
    "l=Poligono([[1,1],[20,20],[40,1]],[Segmento([1,1],[20,20],norm([2,2]-[1,1])),Segmento([20,20],[40,1],norm([2,2]-[2,1])),Segmento([40,1],[1,1],norm([2,1]-[1,1]))],0,0)\n",
    "\n",
    "grafica_con_simbolos([[-3,5],[4,6],[4,4],[3,3],[6,6],[30,30],[20,1]],\"x\")\n",
    "grafica_con_simbolos(l,\"x\")\n",
    "grafica_con_simbolos(s,\"x\")"
   ]
  },
  {
   "cell_type": "markdown",
   "id": "egyptian-usage",
   "metadata": {},
   "source": [
    "\n",
    "**Para sacar 9:** Haz una función que verifique si los vértices de un Polígono (en 3D) forman un polígono real, es decir, que todos sus vértices se encuentran en el mismo plano. Para esto utiliza la función de rotación del ejercicio anterior para rotar tus vértices de tal forma que 3 de ellos queden en el plano $xy$. Si todos los demás quedan también en ese mismo plano, entonces arroja un true, sino, arroja un false. Recuerda que hay errores numéricos, así que conviene usar $\\approx$ en vez de $=$, para evitar que por errores numéricos se descarten polígonos que en realidad sí son reales. "
   ]
  },
  {
   "cell_type": "code",
   "execution_count": null,
   "id": "contained-tolerance",
   "metadata": {},
   "outputs": [],
   "source": []
  },
  {
   "cell_type": "markdown",
   "id": "advance-fight",
   "metadata": {},
   "source": [
    "**Para sacar 10:** Haz una función que verifique con un Poliedro es un poliedro real, es decir, que todas sus caras son polígonos reales, pero además que las aristas de cada cara coinciden con una y sólo una arista de otra cara. \n",
    "\n",
    "Prueba tu función con varios poliedros. "
   ]
  },
  {
   "cell_type": "code",
   "execution_count": null,
   "id": "coupled-manor",
   "metadata": {},
   "outputs": [],
   "source": []
  },
  {
   "cell_type": "markdown",
   "id": "upset-oregon",
   "metadata": {},
   "source": [
    "**Para sacar 11:** Haz una función Poliedro, que tome como argumentos una lista de Polígonos y verifique que estos corresponden a las caras de un poliedro real. Si no lo hacen, entonces que arroje un error. Si sí son parte de un poliedro real, entonces obtenga el objeto Poliedro formado por esas caras. Calcular el volumen del poliedro no es trivial, pero se puede hacer mediante la fórmula que viene en: https://en.wikipedia.org/wiki/Polyhedron#Volume"
   ]
  },
  {
   "cell_type": "code",
   "execution_count": null,
   "id": "worst-special",
   "metadata": {},
   "outputs": [],
   "source": []
  }
 ],
 "metadata": {
  "kernelspec": {
   "display_name": "Julia 1.6.0-rc1",
   "language": "julia",
   "name": "julia-1.6"
  },
  "language_info": {
   "file_extension": ".jl",
   "mimetype": "application/julia",
   "name": "julia",
   "version": "1.6.0"
  }
 },
 "nbformat": 4,
 "nbformat_minor": 5
}
